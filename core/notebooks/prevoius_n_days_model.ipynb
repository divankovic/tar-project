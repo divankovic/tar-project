{
 "cells": [
  {
   "cell_type": "code",
   "execution_count": 1,
   "metadata": {},
   "outputs": [],
   "source": [
    "import os\n",
    "import sklearn\n",
    "import pathlib\n",
    "import numpy as np\n",
    "import scipy as sp\n",
    "import pandas as pd"
   ]
  },
  {
   "cell_type": "code",
   "execution_count": 2,
   "metadata": {},
   "outputs": [],
   "source": [
    "os.environ['CUDA_VISIBLE_DEVICES'] = '0'"
   ]
  },
  {
   "cell_type": "code",
   "execution_count": 3,
   "metadata": {},
   "outputs": [],
   "source": [
    "dataset_path = pathlib.Path('/tf/sentiment_prediction/utils/kaggle_previous_10.csv')"
   ]
  },
  {
   "cell_type": "code",
   "execution_count": 4,
   "metadata": {},
   "outputs": [],
   "source": [
    "dataset = pd.read_csv(dataset_path)"
   ]
  },
  {
   "cell_type": "code",
   "execution_count": 5,
   "metadata": {},
   "outputs": [],
   "source": [
    "y = dataset['stock_move'].tolist()"
   ]
  },
  {
   "cell_type": "code",
   "execution_count": 6,
   "metadata": {},
   "outputs": [],
   "source": [
    "x = [[float(x) for x in line.split(',')] for line in dataset['prevois_stock_moves'].tolist()]"
   ]
  },
  {
   "cell_type": "code",
   "execution_count": 7,
   "metadata": {},
   "outputs": [
    {
     "data": {
      "text/plain": [
       "(3408,)"
      ]
     },
     "execution_count": 7,
     "metadata": {},
     "output_type": "execute_result"
    }
   ],
   "source": [
    "y = np.array(y)\n",
    "y.shape"
   ]
  },
  {
   "cell_type": "code",
   "execution_count": 8,
   "metadata": {},
   "outputs": [
    {
     "data": {
      "text/plain": [
       "(3408, 250)"
      ]
     },
     "execution_count": 8,
     "metadata": {},
     "output_type": "execute_result"
    }
   ],
   "source": [
    "x = np.array(x)\n",
    "x.shape"
   ]
  },
  {
   "cell_type": "code",
   "execution_count": 9,
   "metadata": {},
   "outputs": [
    {
     "data": {
      "text/plain": [
       "(0.3160211267605634, 0.2161517742015473)"
      ]
     },
     "execution_count": 9,
     "metadata": {},
     "output_type": "execute_result"
    }
   ],
   "source": [
    "np.mean(y), np.var(y)"
   ]
  },
  {
   "cell_type": "code",
   "execution_count": 10,
   "metadata": {},
   "outputs": [],
   "source": [
    "indices_0 = np.argwhere(y == 0)\n",
    "indices_1 = np.argwhere(y == 1)"
   ]
  },
  {
   "cell_type": "code",
   "execution_count": 11,
   "metadata": {},
   "outputs": [
    {
     "name": "stdout",
     "output_type": "stream",
     "text": [
      "Zeros: 2331\n",
      "Ones: 1077\n"
     ]
    }
   ],
   "source": [
    "print('Zeros:', indices_0.shape[0])\n",
    "print('Ones:', indices_1.shape[0])"
   ]
  },
  {
   "cell_type": "code",
   "execution_count": 12,
   "metadata": {},
   "outputs": [],
   "source": [
    "indices_0 = indices_0[:indices_1.shape[0]]"
   ]
  },
  {
   "cell_type": "code",
   "execution_count": 13,
   "metadata": {},
   "outputs": [
    {
     "name": "stdout",
     "output_type": "stream",
     "text": [
      "(1077, 1)\n",
      "(1077, 1)\n"
     ]
    }
   ],
   "source": [
    "print(indices_0.shape)\n",
    "print(indices_1.shape)"
   ]
  },
  {
   "cell_type": "code",
   "execution_count": 14,
   "metadata": {},
   "outputs": [
    {
     "data": {
      "text/plain": [
       "(2154, 250)"
      ]
     },
     "execution_count": 14,
     "metadata": {},
     "output_type": "execute_result"
    }
   ],
   "source": [
    "x = np.concatenate((x[indices_0], x[indices_1]), axis=0).squeeze()\n",
    "x.shape"
   ]
  },
  {
   "cell_type": "code",
   "execution_count": 15,
   "metadata": {},
   "outputs": [
    {
     "data": {
      "text/plain": [
       "(2154,)"
      ]
     },
     "execution_count": 15,
     "metadata": {},
     "output_type": "execute_result"
    }
   ],
   "source": [
    "y = np.concatenate([y[indices_0], y[indices_1]], axis=0).squeeze()\n",
    "y.shape"
   ]
  },
  {
   "cell_type": "code",
   "execution_count": 16,
   "metadata": {},
   "outputs": [
    {
     "data": {
      "text/plain": [
       "(228554.49110772857, 0.4244280243411858, 0.19886200788875572)"
      ]
     },
     "execution_count": 16,
     "metadata": {},
     "output_type": "execute_result"
    }
   ],
   "source": [
    "np.sum(x), np.mean(x), np.var(x)"
   ]
  },
  {
   "cell_type": "code",
   "execution_count": 17,
   "metadata": {},
   "outputs": [
    {
     "data": {
      "text/plain": [
       "(1077, 0.5, 0.25)"
      ]
     },
     "execution_count": 17,
     "metadata": {},
     "output_type": "execute_result"
    }
   ],
   "source": [
    "np.sum(y), np.mean(y), np.var(y)"
   ]
  },
  {
   "cell_type": "markdown",
   "metadata": {},
   "source": [
    "# Keras model"
   ]
  },
  {
   "cell_type": "code",
   "execution_count": 18,
   "metadata": {},
   "outputs": [
    {
     "name": "stderr",
     "output_type": "stream",
     "text": [
      "Using TensorFlow backend.\n"
     ]
    }
   ],
   "source": [
    "import keras"
   ]
  },
  {
   "cell_type": "code",
   "execution_count": 19,
   "metadata": {
    "scrolled": true
   },
   "outputs": [
    {
     "name": "stdout",
     "output_type": "stream",
     "text": [
      "WARNING:tensorflow:From /usr/local/lib/python3.5/dist-packages/tensorflow/python/framework/op_def_library.py:263: colocate_with (from tensorflow.python.framework.ops) is deprecated and will be removed in a future version.\n",
      "Instructions for updating:\n",
      "Colocations handled automatically by placer.\n"
     ]
    }
   ],
   "source": [
    "model = keras.models.Sequential()\n",
    "\n",
    "model.add(keras.layers.Dense(16, activation='relu', input_shape=(x.shape[1],)))\n",
    "model.add(keras.layers.Dense(16, activation='relu'))\n",
    "model.add(keras.layers.Dense(8, activation='relu'))\n",
    "\n",
    "model.add(keras.layers.Dense(1, activation='sigmoid'))"
   ]
  },
  {
   "cell_type": "code",
   "execution_count": 20,
   "metadata": {},
   "outputs": [],
   "source": [
    "model.compile(\n",
    "    optimizer=keras.optimizers.Adam(0.0001),\n",
    "    loss='binary_crossentropy',\n",
    "    metrics=['accuracy'],\n",
    ")"
   ]
  },
  {
   "cell_type": "code",
   "execution_count": 21,
   "metadata": {},
   "outputs": [
    {
     "name": "stdout",
     "output_type": "stream",
     "text": [
      "_________________________________________________________________\n",
      "Layer (type)                 Output Shape              Param #   \n",
      "=================================================================\n",
      "dense_1 (Dense)              (None, 16)                4016      \n",
      "_________________________________________________________________\n",
      "dense_2 (Dense)              (None, 16)                272       \n",
      "_________________________________________________________________\n",
      "dense_3 (Dense)              (None, 8)                 136       \n",
      "_________________________________________________________________\n",
      "dense_4 (Dense)              (None, 1)                 9         \n",
      "=================================================================\n",
      "Total params: 4,433\n",
      "Trainable params: 4,433\n",
      "Non-trainable params: 0\n",
      "_________________________________________________________________\n"
     ]
    }
   ],
   "source": [
    "model.summary()"
   ]
  },
  {
   "cell_type": "code",
   "execution_count": 22,
   "metadata": {
    "scrolled": false
   },
   "outputs": [
    {
     "name": "stdout",
     "output_type": "stream",
     "text": [
      "WARNING:tensorflow:From /usr/local/lib/python3.5/dist-packages/tensorflow/python/ops/math_ops.py:3066: to_int32 (from tensorflow.python.ops.math_ops) is deprecated and will be removed in a future version.\n",
      "Instructions for updating:\n",
      "Use tf.cast instead.\n",
      "Train on 1723 samples, validate on 431 samples\n",
      "Epoch 1/100\n",
      "1723/1723 [==============================] - 3s 2ms/step - loss: 0.7211 - acc: 0.3755 - val_loss: 0.6248 - val_acc: 0.9629\n",
      "Epoch 2/100\n",
      "1723/1723 [==============================] - 0s 64us/step - loss: 0.7109 - acc: 0.3767 - val_loss: 0.6477 - val_acc: 0.8979\n",
      "Epoch 3/100\n",
      "1723/1723 [==============================] - 0s 61us/step - loss: 0.7043 - acc: 0.4063 - val_loss: 0.6623 - val_acc: 0.8097\n",
      "Epoch 4/100\n",
      "1723/1723 [==============================] - 0s 59us/step - loss: 0.7004 - acc: 0.4353 - val_loss: 0.6733 - val_acc: 0.6589\n",
      "Epoch 5/100\n",
      "1723/1723 [==============================] - 0s 56us/step - loss: 0.6976 - acc: 0.4701 - val_loss: 0.6802 - val_acc: 0.5522\n",
      "Epoch 6/100\n",
      "1723/1723 [==============================] - 0s 60us/step - loss: 0.6957 - acc: 0.4962 - val_loss: 0.6857 - val_acc: 0.4664\n",
      "Epoch 7/100\n",
      "1723/1723 [==============================] - 0s 61us/step - loss: 0.6944 - acc: 0.5299 - val_loss: 0.6896 - val_acc: 0.3828\n",
      "Epoch 8/100\n",
      "1723/1723 [==============================] - 0s 60us/step - loss: 0.6935 - acc: 0.5508 - val_loss: 0.6931 - val_acc: 0.3063\n",
      "Epoch 9/100\n",
      "1723/1723 [==============================] - 0s 59us/step - loss: 0.6927 - acc: 0.5653 - val_loss: 0.6962 - val_acc: 0.2367\n",
      "Epoch 10/100\n",
      "1723/1723 [==============================] - 0s 64us/step - loss: 0.6919 - acc: 0.5833 - val_loss: 0.6990 - val_acc: 0.1856\n",
      "Epoch 11/100\n",
      "1723/1723 [==============================] - 0s 61us/step - loss: 0.6912 - acc: 0.5972 - val_loss: 0.7017 - val_acc: 0.1578\n",
      "Epoch 12/100\n",
      "1723/1723 [==============================] - 0s 68us/step - loss: 0.6905 - acc: 0.6030 - val_loss: 0.7048 - val_acc: 0.1415\n",
      "Epoch 13/100\n",
      "1723/1723 [==============================] - 0s 66us/step - loss: 0.6898 - acc: 0.6053 - val_loss: 0.7079 - val_acc: 0.1253\n",
      "Epoch 14/100\n",
      "1723/1723 [==============================] - 0s 68us/step - loss: 0.6890 - acc: 0.6106 - val_loss: 0.7115 - val_acc: 0.1021\n",
      "Epoch 15/100\n",
      "1723/1723 [==============================] - 0s 68us/step - loss: 0.6880 - acc: 0.6181 - val_loss: 0.7164 - val_acc: 0.0812\n",
      "Epoch 16/100\n",
      "1723/1723 [==============================] - 0s 67us/step - loss: 0.6867 - acc: 0.6222 - val_loss: 0.7220 - val_acc: 0.0580\n",
      "Epoch 17/100\n",
      "1723/1723 [==============================] - 0s 70us/step - loss: 0.6854 - acc: 0.6198 - val_loss: 0.7293 - val_acc: 0.0325\n",
      "Epoch 18/100\n",
      "1723/1723 [==============================] - 0s 62us/step - loss: 0.6836 - acc: 0.6251 - val_loss: 0.7370 - val_acc: 0.0255\n",
      "Epoch 19/100\n",
      "1723/1723 [==============================] - 0s 65us/step - loss: 0.6819 - acc: 0.6268 - val_loss: 0.7461 - val_acc: 0.0209\n",
      "Epoch 20/100\n",
      "1723/1723 [==============================] - 0s 65us/step - loss: 0.6800 - acc: 0.6274 - val_loss: 0.7564 - val_acc: 0.0162\n",
      "Epoch 21/100\n",
      "1723/1723 [==============================] - 0s 62us/step - loss: 0.6780 - acc: 0.6280 - val_loss: 0.7673 - val_acc: 0.0093\n",
      "Epoch 00021: early stopping\n"
     ]
    },
    {
     "data": {
      "text/plain": [
       "<keras.callbacks.History at 0x7f59173099b0>"
      ]
     },
     "execution_count": 22,
     "metadata": {},
     "output_type": "execute_result"
    }
   ],
   "source": [
    "model.fit(\n",
    "    x,\n",
    "    y,\n",
    "    epochs=100,\n",
    "    shuffle=True,\n",
    "    batch_size=100,\n",
    "    validation_split=0.2,\n",
    "    callbacks=[\n",
    "        keras.callbacks.EarlyStopping('val_loss', mode='min', patience=20, verbose=1)\n",
    "    ]\n",
    ")"
   ]
  },
  {
   "cell_type": "code",
   "execution_count": null,
   "metadata": {},
   "outputs": [],
   "source": []
  },
  {
   "cell_type": "code",
   "execution_count": null,
   "metadata": {},
   "outputs": [],
   "source": []
  }
 ],
 "metadata": {
  "kernelspec": {
   "display_name": "Python 3",
   "language": "python",
   "name": "python3"
  },
  "language_info": {
   "codemirror_mode": {
    "name": "ipython",
    "version": 3
   },
   "file_extension": ".py",
   "mimetype": "text/x-python",
   "name": "python",
   "nbconvert_exporter": "python",
   "pygments_lexer": "ipython3",
   "version": "3.5.2"
  }
 },
 "nbformat": 4,
 "nbformat_minor": 2
}
