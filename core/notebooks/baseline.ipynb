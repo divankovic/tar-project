{
 "cells": [
  {
   "cell_type": "code",
   "execution_count": 75,
   "metadata": {},
   "outputs": [],
   "source": [
    "import sklearn\n",
    "import pathlib\n",
    "import numpy as np\n",
    "import scipy as sp\n",
    "import pandas as pd\n",
    "import spacy\n",
    "import datetime\n",
    "\n",
    "from sklearn.linear_model import LogisticRegression\n",
    "from sklearn.feature_extraction.text import CountVectorizer"
   ]
  },
  {
   "cell_type": "code",
   "execution_count": 61,
   "metadata": {},
   "outputs": [],
   "source": [
    "dataset_path = pathlib.Path('../../dataset/stocknews/')"
   ]
  },
  {
   "cell_type": "code",
   "execution_count": 62,
   "metadata": {
    "scrolled": true
   },
   "outputs": [],
   "source": [
    "data = pd.read_csv(dataset_path / 'Combined_News_DJIA.csv')"
   ]
  },
  {
   "cell_type": "code",
   "execution_count": 63,
   "metadata": {
    "scrolled": false
   },
   "outputs": [
    {
     "data": {
      "text/html": [
       "<div>\n",
       "<style scoped>\n",
       "    .dataframe tbody tr th:only-of-type {\n",
       "        vertical-align: middle;\n",
       "    }\n",
       "\n",
       "    .dataframe tbody tr th {\n",
       "        vertical-align: top;\n",
       "    }\n",
       "\n",
       "    .dataframe thead th {\n",
       "        text-align: right;\n",
       "    }\n",
       "</style>\n",
       "<table border=\"1\" class=\"dataframe\">\n",
       "  <thead>\n",
       "    <tr style=\"text-align: right;\">\n",
       "      <th></th>\n",
       "      <th>Date</th>\n",
       "      <th>Label</th>\n",
       "      <th>Top1</th>\n",
       "      <th>Top2</th>\n",
       "      <th>Top3</th>\n",
       "      <th>Top4</th>\n",
       "      <th>Top5</th>\n",
       "      <th>Top6</th>\n",
       "      <th>Top7</th>\n",
       "      <th>Top8</th>\n",
       "      <th>...</th>\n",
       "      <th>Top16</th>\n",
       "      <th>Top17</th>\n",
       "      <th>Top18</th>\n",
       "      <th>Top19</th>\n",
       "      <th>Top20</th>\n",
       "      <th>Top21</th>\n",
       "      <th>Top22</th>\n",
       "      <th>Top23</th>\n",
       "      <th>Top24</th>\n",
       "      <th>Top25</th>\n",
       "    </tr>\n",
       "  </thead>\n",
       "  <tbody>\n",
       "    <tr>\n",
       "      <th>0</th>\n",
       "      <td>2008-08-08</td>\n",
       "      <td>0</td>\n",
       "      <td>b\"Georgia 'downs two Russian warplanes' as cou...</td>\n",
       "      <td>b'BREAKING: Musharraf to be impeached.'</td>\n",
       "      <td>b'Russia Today: Columns of troops roll into So...</td>\n",
       "      <td>b'Russian tanks are moving towards the capital...</td>\n",
       "      <td>b\"Afghan children raped with 'impunity,' U.N. ...</td>\n",
       "      <td>b'150 Russian tanks have entered South Ossetia...</td>\n",
       "      <td>b\"Breaking: Georgia invades South Ossetia, Rus...</td>\n",
       "      <td>b\"The 'enemy combatent' trials are nothing but...</td>\n",
       "      <td>...</td>\n",
       "      <td>b'Georgia Invades South Ossetia - if Russia ge...</td>\n",
       "      <td>b'Al-Qaeda Faces Islamist Backlash'</td>\n",
       "      <td>b'Condoleezza Rice: \"The US would not act to p...</td>\n",
       "      <td>b'This is a busy day:  The European Union has ...</td>\n",
       "      <td>b\"Georgia will withdraw 1,000 soldiers from Ir...</td>\n",
       "      <td>b'Why the Pentagon Thinks Attacking Iran is a ...</td>\n",
       "      <td>b'Caucasus in crisis: Georgia invades South Os...</td>\n",
       "      <td>b'Indian shoe manufactory  - And again in a se...</td>\n",
       "      <td>b'Visitors Suffering from Mental Illnesses Ban...</td>\n",
       "      <td>b\"No Help for Mexico's Kidnapping Surge\"</td>\n",
       "    </tr>\n",
       "    <tr>\n",
       "      <th>1</th>\n",
       "      <td>2008-08-11</td>\n",
       "      <td>1</td>\n",
       "      <td>b'Why wont America and Nato help us? If they w...</td>\n",
       "      <td>b'Bush puts foot down on Georgian conflict'</td>\n",
       "      <td>b\"Jewish Georgian minister: Thanks to Israeli ...</td>\n",
       "      <td>b'Georgian army flees in disarray as Russians ...</td>\n",
       "      <td>b\"Olympic opening ceremony fireworks 'faked'\"</td>\n",
       "      <td>b'What were the Mossad with fraudulent New Zea...</td>\n",
       "      <td>b'Russia angered by Israeli military sale to G...</td>\n",
       "      <td>b'An American citizen living in S.Ossetia blam...</td>\n",
       "      <td>...</td>\n",
       "      <td>b'Israel and the US behind the Georgian aggres...</td>\n",
       "      <td>b'\"Do not believe TV, neither Russian nor Geor...</td>\n",
       "      <td>b'Riots are still going on in Montreal (Canada...</td>\n",
       "      <td>b'China to overtake US as largest manufacturer'</td>\n",
       "      <td>b'War in South Ossetia [PICS]'</td>\n",
       "      <td>b'Israeli Physicians Group Condemns State Tort...</td>\n",
       "      <td>b' Russia has just beaten the United States ov...</td>\n",
       "      <td>b'Perhaps *the* question about the Georgia - R...</td>\n",
       "      <td>b'Russia is so much better at war'</td>\n",
       "      <td>b\"So this is what it's come to: trading sex fo...</td>\n",
       "    </tr>\n",
       "    <tr>\n",
       "      <th>2</th>\n",
       "      <td>2008-08-12</td>\n",
       "      <td>0</td>\n",
       "      <td>b'Remember that adorable 9-year-old who sang a...</td>\n",
       "      <td>b\"Russia 'ends Georgia operation'\"</td>\n",
       "      <td>b'\"If we had no sexual harassment we would hav...</td>\n",
       "      <td>b\"Al-Qa'eda is losing support in Iraq because ...</td>\n",
       "      <td>b'Ceasefire in Georgia: Putin Outmaneuvers the...</td>\n",
       "      <td>b'Why Microsoft and Intel tried to kill the XO...</td>\n",
       "      <td>b'Stratfor: The Russo-Georgian War and the Bal...</td>\n",
       "      <td>b\"I'm Trying to Get a Sense of This Whole Geor...</td>\n",
       "      <td>...</td>\n",
       "      <td>b'U.S. troops still in Georgia (did you know t...</td>\n",
       "      <td>b'Why Russias response to Georgia was right'</td>\n",
       "      <td>b'Gorbachev accuses U.S. of making a \"serious ...</td>\n",
       "      <td>b'Russia, Georgia, and NATO: Cold War Two'</td>\n",
       "      <td>b'Remember that adorable 62-year-old who led y...</td>\n",
       "      <td>b'War in Georgia: The Israeli connection'</td>\n",
       "      <td>b'All signs point to the US encouraging Georgi...</td>\n",
       "      <td>b'Christopher King argues that the US and NATO...</td>\n",
       "      <td>b'America: The New Mexico?'</td>\n",
       "      <td>b\"BBC NEWS | Asia-Pacific | Extinction 'by man...</td>\n",
       "    </tr>\n",
       "    <tr>\n",
       "      <th>3</th>\n",
       "      <td>2008-08-13</td>\n",
       "      <td>0</td>\n",
       "      <td>b' U.S. refuses Israel weapons to attack Iran:...</td>\n",
       "      <td>b\"When the president ordered to attack Tskhinv...</td>\n",
       "      <td>b' Israel clears troops who killed Reuters cam...</td>\n",
       "      <td>b'Britain\\'s policy of being tough on drugs is...</td>\n",
       "      <td>b'Body of 14 year old found in trunk; Latest (...</td>\n",
       "      <td>b'China has moved 10 *million* quake survivors...</td>\n",
       "      <td>b\"Bush announces Operation Get All Up In Russi...</td>\n",
       "      <td>b'Russian forces sink Georgian ships '</td>\n",
       "      <td>...</td>\n",
       "      <td>b'Elephants extinct by 2020?'</td>\n",
       "      <td>b'US humanitarian missions soon in Georgia - i...</td>\n",
       "      <td>b\"Georgia's DDOS came from US sources\"</td>\n",
       "      <td>b'Russian convoy heads into Georgia, violating...</td>\n",
       "      <td>b'Israeli defence minister: US against strike ...</td>\n",
       "      <td>b'Gorbachev: We Had No Choice'</td>\n",
       "      <td>b'Witness: Russian forces head towards Tbilisi...</td>\n",
       "      <td>b' Quarter of Russians blame U.S. for conflict...</td>\n",
       "      <td>b'Georgian president  says US military will ta...</td>\n",
       "      <td>b'2006: Nobel laureate Aleksander Solzhenitsyn...</td>\n",
       "    </tr>\n",
       "    <tr>\n",
       "      <th>4</th>\n",
       "      <td>2008-08-14</td>\n",
       "      <td>1</td>\n",
       "      <td>b'All the experts admit that we should legalis...</td>\n",
       "      <td>b'War in South Osetia - 89 pictures made by a ...</td>\n",
       "      <td>b'Swedish wrestler Ara Abrahamian throws away ...</td>\n",
       "      <td>b'Russia exaggerated the death toll in South O...</td>\n",
       "      <td>b'Missile That Killed 9 Inside Pakistan May Ha...</td>\n",
       "      <td>b\"Rushdie Condemns Random House's Refusal to P...</td>\n",
       "      <td>b'Poland and US agree to missle defense deal. ...</td>\n",
       "      <td>b'Will the Russians conquer Tblisi? Bet on it,...</td>\n",
       "      <td>...</td>\n",
       "      <td>b'Bank analyst forecast Georgian crisis 2 days...</td>\n",
       "      <td>b\"Georgia confict could set back Russia's US r...</td>\n",
       "      <td>b'War in the Caucasus is as much the product o...</td>\n",
       "      <td>b'\"Non-media\" photos of South Ossetia/Georgia ...</td>\n",
       "      <td>b'Georgian TV reporter shot by Russian sniper ...</td>\n",
       "      <td>b'Saudi Arabia: Mother moves to block child ma...</td>\n",
       "      <td>b'Taliban wages war on humanitarian aid workers'</td>\n",
       "      <td>b'Russia: World  \"can forget about\" Georgia\\'s...</td>\n",
       "      <td>b'Darfur rebels accuse Sudan of mounting major...</td>\n",
       "      <td>b'Philippines : Peace Advocate say Muslims nee...</td>\n",
       "    </tr>\n",
       "  </tbody>\n",
       "</table>\n",
       "<p>5 rows × 27 columns</p>\n",
       "</div>"
      ],
      "text/plain": [
       "         Date  Label                                               Top1  \\\n",
       "0  2008-08-08      0  b\"Georgia 'downs two Russian warplanes' as cou...   \n",
       "1  2008-08-11      1  b'Why wont America and Nato help us? If they w...   \n",
       "2  2008-08-12      0  b'Remember that adorable 9-year-old who sang a...   \n",
       "3  2008-08-13      0  b' U.S. refuses Israel weapons to attack Iran:...   \n",
       "4  2008-08-14      1  b'All the experts admit that we should legalis...   \n",
       "\n",
       "                                                Top2  \\\n",
       "0            b'BREAKING: Musharraf to be impeached.'   \n",
       "1        b'Bush puts foot down on Georgian conflict'   \n",
       "2                 b\"Russia 'ends Georgia operation'\"   \n",
       "3  b\"When the president ordered to attack Tskhinv...   \n",
       "4  b'War in South Osetia - 89 pictures made by a ...   \n",
       "\n",
       "                                                Top3  \\\n",
       "0  b'Russia Today: Columns of troops roll into So...   \n",
       "1  b\"Jewish Georgian minister: Thanks to Israeli ...   \n",
       "2  b'\"If we had no sexual harassment we would hav...   \n",
       "3  b' Israel clears troops who killed Reuters cam...   \n",
       "4  b'Swedish wrestler Ara Abrahamian throws away ...   \n",
       "\n",
       "                                                Top4  \\\n",
       "0  b'Russian tanks are moving towards the capital...   \n",
       "1  b'Georgian army flees in disarray as Russians ...   \n",
       "2  b\"Al-Qa'eda is losing support in Iraq because ...   \n",
       "3  b'Britain\\'s policy of being tough on drugs is...   \n",
       "4  b'Russia exaggerated the death toll in South O...   \n",
       "\n",
       "                                                Top5  \\\n",
       "0  b\"Afghan children raped with 'impunity,' U.N. ...   \n",
       "1      b\"Olympic opening ceremony fireworks 'faked'\"   \n",
       "2  b'Ceasefire in Georgia: Putin Outmaneuvers the...   \n",
       "3  b'Body of 14 year old found in trunk; Latest (...   \n",
       "4  b'Missile That Killed 9 Inside Pakistan May Ha...   \n",
       "\n",
       "                                                Top6  \\\n",
       "0  b'150 Russian tanks have entered South Ossetia...   \n",
       "1  b'What were the Mossad with fraudulent New Zea...   \n",
       "2  b'Why Microsoft and Intel tried to kill the XO...   \n",
       "3  b'China has moved 10 *million* quake survivors...   \n",
       "4  b\"Rushdie Condemns Random House's Refusal to P...   \n",
       "\n",
       "                                                Top7  \\\n",
       "0  b\"Breaking: Georgia invades South Ossetia, Rus...   \n",
       "1  b'Russia angered by Israeli military sale to G...   \n",
       "2  b'Stratfor: The Russo-Georgian War and the Bal...   \n",
       "3  b\"Bush announces Operation Get All Up In Russi...   \n",
       "4  b'Poland and US agree to missle defense deal. ...   \n",
       "\n",
       "                                                Top8  \\\n",
       "0  b\"The 'enemy combatent' trials are nothing but...   \n",
       "1  b'An American citizen living in S.Ossetia blam...   \n",
       "2  b\"I'm Trying to Get a Sense of This Whole Geor...   \n",
       "3             b'Russian forces sink Georgian ships '   \n",
       "4  b'Will the Russians conquer Tblisi? Bet on it,...   \n",
       "\n",
       "                         ...                          \\\n",
       "0                        ...                           \n",
       "1                        ...                           \n",
       "2                        ...                           \n",
       "3                        ...                           \n",
       "4                        ...                           \n",
       "\n",
       "                                               Top16  \\\n",
       "0  b'Georgia Invades South Ossetia - if Russia ge...   \n",
       "1  b'Israel and the US behind the Georgian aggres...   \n",
       "2  b'U.S. troops still in Georgia (did you know t...   \n",
       "3                      b'Elephants extinct by 2020?'   \n",
       "4  b'Bank analyst forecast Georgian crisis 2 days...   \n",
       "\n",
       "                                               Top17  \\\n",
       "0                b'Al-Qaeda Faces Islamist Backlash'   \n",
       "1  b'\"Do not believe TV, neither Russian nor Geor...   \n",
       "2       b'Why Russias response to Georgia was right'   \n",
       "3  b'US humanitarian missions soon in Georgia - i...   \n",
       "4  b\"Georgia confict could set back Russia's US r...   \n",
       "\n",
       "                                               Top18  \\\n",
       "0  b'Condoleezza Rice: \"The US would not act to p...   \n",
       "1  b'Riots are still going on in Montreal (Canada...   \n",
       "2  b'Gorbachev accuses U.S. of making a \"serious ...   \n",
       "3             b\"Georgia's DDOS came from US sources\"   \n",
       "4  b'War in the Caucasus is as much the product o...   \n",
       "\n",
       "                                               Top19  \\\n",
       "0  b'This is a busy day:  The European Union has ...   \n",
       "1    b'China to overtake US as largest manufacturer'   \n",
       "2         b'Russia, Georgia, and NATO: Cold War Two'   \n",
       "3  b'Russian convoy heads into Georgia, violating...   \n",
       "4  b'\"Non-media\" photos of South Ossetia/Georgia ...   \n",
       "\n",
       "                                               Top20  \\\n",
       "0  b\"Georgia will withdraw 1,000 soldiers from Ir...   \n",
       "1                     b'War in South Ossetia [PICS]'   \n",
       "2  b'Remember that adorable 62-year-old who led y...   \n",
       "3  b'Israeli defence minister: US against strike ...   \n",
       "4  b'Georgian TV reporter shot by Russian sniper ...   \n",
       "\n",
       "                                               Top21  \\\n",
       "0  b'Why the Pentagon Thinks Attacking Iran is a ...   \n",
       "1  b'Israeli Physicians Group Condemns State Tort...   \n",
       "2          b'War in Georgia: The Israeli connection'   \n",
       "3                     b'Gorbachev: We Had No Choice'   \n",
       "4  b'Saudi Arabia: Mother moves to block child ma...   \n",
       "\n",
       "                                               Top22  \\\n",
       "0  b'Caucasus in crisis: Georgia invades South Os...   \n",
       "1  b' Russia has just beaten the United States ov...   \n",
       "2  b'All signs point to the US encouraging Georgi...   \n",
       "3  b'Witness: Russian forces head towards Tbilisi...   \n",
       "4   b'Taliban wages war on humanitarian aid workers'   \n",
       "\n",
       "                                               Top23  \\\n",
       "0  b'Indian shoe manufactory  - And again in a se...   \n",
       "1  b'Perhaps *the* question about the Georgia - R...   \n",
       "2  b'Christopher King argues that the US and NATO...   \n",
       "3  b' Quarter of Russians blame U.S. for conflict...   \n",
       "4  b'Russia: World  \"can forget about\" Georgia\\'s...   \n",
       "\n",
       "                                               Top24  \\\n",
       "0  b'Visitors Suffering from Mental Illnesses Ban...   \n",
       "1                 b'Russia is so much better at war'   \n",
       "2                        b'America: The New Mexico?'   \n",
       "3  b'Georgian president  says US military will ta...   \n",
       "4  b'Darfur rebels accuse Sudan of mounting major...   \n",
       "\n",
       "                                               Top25  \n",
       "0           b\"No Help for Mexico's Kidnapping Surge\"  \n",
       "1  b\"So this is what it's come to: trading sex fo...  \n",
       "2  b\"BBC NEWS | Asia-Pacific | Extinction 'by man...  \n",
       "3  b'2006: Nobel laureate Aleksander Solzhenitsyn...  \n",
       "4  b'Philippines : Peace Advocate say Muslims nee...  \n",
       "\n",
       "[5 rows x 27 columns]"
      ]
     },
     "execution_count": 63,
     "metadata": {},
     "output_type": "execute_result"
    }
   ],
   "source": [
    "data.head()"
   ]
  },
  {
   "cell_type": "code",
   "execution_count": 77,
   "metadata": {},
   "outputs": [
    {
     "name": "stdout",
     "output_type": "stream",
     "text": [
      "['[\\'b\"Georgia \\\\\\'downs two Russian warplanes\\\\\\' as countries move to brink of war\"\\'\\n \"b\\'BREAKING: Musharraf to be impeached.\\'\"\\n \"b\\'Russia Today: Columns of troops roll into South Ossetia; footage from fighting (YouTube)\\'\"\\n \"b\\'Russian tanks are moving towards the capital of South Ossetia, which has reportedly been completely destroyed by Georgian artillery fire\\'\"\\n \\'b\"Afghan children raped with \\\\\\'impunity,\\\\\\' U.N. official says - this is sick, a three year old was raped and they do nothing\"\\'\\n \"b\\'150 Russian tanks have entered South Ossetia whilst Georgia shoots down two Russian jets.\\'\"\\n \\'b\"Breaking: Georgia invades South Ossetia, Russia warned it would intervene on SO\\\\\\'s side\"\\'\\n \\'b\"The \\\\\\'enemy combatent\\\\\\' trials are nothing but a sham: Salim Haman has been sentenced to 5 1/2 years, but will be kept longer anyway just because they feel like it.\"\\'\\n \"b\\'Georgian troops retreat from S. Osettain capital, presumably leaving several hundred people killed. [VIDEO]\\'\"\\n \"b\\'Did the U.S. Prep Georgia for War with Russia?\\'\"\\n \"b\\'Rice Gives Green Light for Israel to Attack Iran: Says U.S. has no veto over Israeli military ops\\'\"\\n \"b\\'Announcing:Class Action Lawsuit on Behalf of American Public Against the FBI\\'\"\\n \\'b\"So---Russia and Georgia are at war and the NYT\\\\\\'s top story is opening ceremonies of the Olympics?  What a fucking disgrace and yet further proof of the decline of journalism.\"\\'\\n \\'b\"China tells Bush to stay out of other countries\\\\\\' affairs\"\\'\\n \"b\\'Did World War III start today?\\'\"\\n \"b\\'Georgia Invades South Ossetia - if Russia gets involved, will NATO absorb Georgia and unleash a full scale war?\\'\"\\n \"b\\'Al-Qaeda Faces Islamist Backlash\\'\"\\n \\'b\\\\\\'Condoleezza Rice: \"The US would not act to prevent an Israeli strike on Iran.\" Israeli Defense Minister Ehud Barak: \"Israel is prepared for uncompromising victory in the case of military hostilities.\"\\\\\\'\\'\\n \"b\\'This is a busy day:  The European Union has approved new sanctions against Iran in protest at its nuclear programme.\\'\"\\n \\'b\"Georgia will withdraw 1,000 soldiers from Iraq to help fight off Russian forces in Georgia\\\\\\'s breakaway region of South Ossetia\"\\'\\n \"b\\'Why the Pentagon Thinks Attacking Iran is a Bad Idea - US News &amp; World Report\\'\"\\n \"b\\'Caucasus in crisis: Georgia invades South Ossetia\\'\"\\n \\'b\\\\\\'Indian shoe manufactory  - And again in a series of \"you do not like your work?\"\\\\\\'\\'\\n \"b\\'Visitors Suffering from Mental Illnesses Banned from Olympics\\'\"\\n \\'b\"No Help for Mexico\\\\\\'s Kidnapping Surge\"\\']'\n",
      " '[\"b\\'Why wont America and Nato help us? If they wont help us now, why did we help them in Iraq?\\'\"\\n \"b\\'Bush puts foot down on Georgian conflict\\'\"\\n \\'b\"Jewish Georgian minister: Thanks to Israeli training, we\\\\\\'re fending off Russia \"\\'\\n \"b\\'Georgian army flees in disarray as Russians advance - Gori abandoned to Russia without a shot fired\\'\"\\n \\'b\"Olympic opening ceremony fireworks \\\\\\'faked\\\\\\'\"\\'\\n \"b\\'What were the Mossad with fraudulent New Zealand Passports doing in Iraq?\\'\"\\n \"b\\'Russia angered by Israeli military sale to Georgia\\'\"\\n \"b\\'An American citizen living in S.Ossetia blames U.S. and Georgian leaders for the genocide of innocent people\\'\"\\n \"b\\'Welcome To World War IV! Now In High Definition!\\'\"\\n \\'b\"Georgia\\\\\\'s move, a mistake of monumental proportions \"\\'\\n \"b\\'Russia presses deeper into Georgia; U.S. says regime change is goal\\'\"\\n \"b\\'Abhinav Bindra wins first ever Individual Olympic Gold Medal for India\\'\"\\n \"b\\' U.S. ship heads for Arctic to define territory\\'\"\\n \"b\\'Drivers in a Jerusalem taxi station threaten to quit rather than work for their new boss - an Arab\\'\"\\n \"b\\'The French Team is Stunned by Phelps and the 4x100m Relay Team\\'\"\\n \"b\\'Israel and the US behind the Georgian aggression?\\'\"\\n \\'b\\\\\\'\"Do not believe TV, neither Russian nor Georgian. There are much more victims\"\\\\\\'\\'\\n \"b\\'Riots are still going on in Montreal (Canada) because police murdered a boy on Saturday.\\'\"\\n \"b\\'China to overtake US as largest manufacturer\\'\"\\n \"b\\'War in South Ossetia [PICS]\\'\"\\n \"b\\'Israeli Physicians Group Condemns State Torture\\'\"\\n \"b\\' Russia has just beaten the United States over the head with Peak Oil\\'\"\\n \"b\\'Perhaps *the* question about the Georgia - Russia conflict \\'\"\\n \"b\\'Russia is so much better at war\\'\"\\n \\'b\"So this is what it\\\\\\'s come to: trading sex for food.\"\\']'\n",
      " '[\"b\\'Remember that adorable 9-year-old who sang at the opening ceremonies? That was fake, too.\\'\"\\n \\'b\"Russia \\\\\\'ends Georgia operation\\\\\\'\"\\'\\n \\'b\\\\\\'\"If we had no sexual harassment we would have no children...\"\\\\\\'\\'\\n \\'b\"Al-Qa\\\\\\'eda is losing support in Iraq because of a brutal crackdown on activities it regards as un-Islamic - including women buying cucumbers\"\\'\\n \"b\\'Ceasefire in Georgia: Putin Outmaneuvers the West\\'\"\\n \"b\\'Why Microsoft and Intel tried to kill the XO $100 laptop\\'\"\\n \"b\\'Stratfor: The Russo-Georgian War and the Balance of Power   \\'\"\\n \\'b\"I\\\\\\'m Trying to Get a Sense of This Whole Georgia-Russia War: Vote Up If You Think Georgia Started It, Or Down If you Think Russia Did\"\\'\\n \\'b\"The US military was surprised by the timing and swiftness of the Russian military\\\\\\'s move into South Ossetia and is still trying to sort out what happened, a US defense official said Monday\"\\'\\n \"b\\'U.S. Beats War Drum as Iran Dumps the Dollar\\'\"\\n \\'b\\\\\\'Gorbachev: \"Georgian military attacked the South Ossetian capital of Tskhinvali with multiple rocket launchers designed to devastate large areas\"\\\\\\'\\'\\n \"b\\'CNN use footage of Tskhinvali ruins to cover Georgian report [VIDEO]\\'\"\\n \"b\\'Beginning a war as the Olympics were opening violates the ancient tradition of a truce to conflict during the Games.  The IOC could respond by taking the 2014 games away from Russia.\\'\"\\n \"b\\'55 pyramids as large as the Luxor stacked into a mega-city pyramid in Tokyo Bay\\'\"\\n \"b\\'The 11 Top Party Cities in the World\\'\"\\n \"b\\'U.S. troops still in Georgia (did you know they were in Georgia in the first place?)\\'\"\\n \"b\\'Why Russias response to Georgia was right\\'\"\\n \\'b\\\\\\'Gorbachev accuses U.S. of making a \"serious blunder\" in pursuing its interest in the Caucasus region\\\\\\'\\'\\n \"b\\'Russia, Georgia, and NATO: Cold War Two\\'\"\\n \"b\\'Remember that adorable 62-year-old who led your country into war based on evidence? That was fake, too.\\'\"\\n \"b\\'War in Georgia: The Israeli connection\\'\"\\n \"b\\'All signs point to the US encouraging Georgia to invade South Ossetia. Goddamnit Bush.\\'\"\\n \"b\\'Christopher King argues that the US and NATO are behind the Georgian invasion of South Ossetia but have misjudged Russian resolve. \\'\"\\n \"b\\'America: The New Mexico?\\'\"\\n \\'b\"BBC NEWS | Asia-Pacific | Extinction \\\\\\'by man not climate\\\\\\'\"\\']'\n",
      " ...\n",
      " '[\\'Solar Power Storage Prices Drop 25% In Germany In &lt;1 Year\\'\\n \\'North Korea Hit Again By Internet Outage; Experts Now Doubt Its Hand In Sony Cyber Attack\\'\\n \"ARCHAEOLOGY - Massive ancient underground city discovered in Turkey\\'s Nevehir\"\\n \\'Reopen investigation into Westminster pedophile whistleblower deaths  MP\\'\\n \"Taliban declare \\'defeat\\' of U.S., allies in Afghanistan.\"\\n \\'British Falklands defence review after military deal between Russia and Argentina. Moscow will swap 12 Su-24 supersonic, all-weather attack aircraft for Argentinian beef and wheat\\'\\n \\'Virgin Confirms Fault On Plane Circling Over UK\\'\\n \"Photo of \\'women murdered for refusing sex jihad is fake\"\\n \"The German chancellor\\'s office has fallen victim to a hacking attack, according to a German newspaper. The Regin malware in question has been linked to British and US spy agencies.\"\\n \\'Thirty-seven children whose parents were killed in the recent Israel-Gaza conflict have been prevented by Hamas from visiting Israel on a trip organised by peace activists.\\'\\n \\'One Dead And 15,000 Stranded In French Alps\\'\\n \\'IED blows up in Bangalore, high alert in India\\'\\n \\'Rise of Spanish populists overturns two-party system\\'\\n \\'Iran could become a \"very successful regional power\" if Tehran agrees to a long-term deal to curb its nuclear program, President Barack Obama said in an interview with NPR News.\\'\\n \\'Greek MPs have rejected the presidential candidate nominated by Prime Minister Antonis Samaras, triggering a snap general election.\\'\\n \\'Islamic State executed nearly 2,000 people in six months\\'\\n \"The leader of one of Mexico\\'s first anti-crime vigilante groups was arrested along with 26 supporters over a shootout that killed his son and 10 others\"\\n \\'Gmail has been blocked in China\\'\\n \"Egyptian writer to face trial for \\'insulting Islam\\'\"\\n \\'Reports reveal scale of destruction of Syrias world historic heritage\\'\\n \\'Russia will supply coal and electricity to Kiev without advance payment\\'\\n \\'ISIS executes more doctors in Mosul\\'\\n \\'Russia shows first sign of recession as GDP contracts: he Russian economy contracted by 0.5% in November,\\'\\n \"AirAsia plane likely \\'at bottom of the sea,\\' says search chief\"\\n \"AirAsia Flight\\'s Altitude Request Was Refused\"]'\n",
      " '[\\'China businessman jailed for 13 years for buying and eating three tigers\\'\\n \\'AirAsia live: Emergency slide, plane door seen in search for missing QZ8501\\'\\n \\'AirAsia plane wreckage found, bodies being recovered\\'\\n \\'Scotland confirms case of Ebola - Ebola cases hit 20,000, death toll nears 8,000: WHO\\'\\n \"Pope Francis to Catholics: It\\'s time to take action on global warming\"\\n \\'Oil hits five-and-a-half-year low below $57 on supply glut\\'\\n \\'\"Lizard Squad\" members who ruined Christmas for Xbox and PlayStation gamers exposed after giving interview to BBC\\'\\n \\'Two students in Thailand face up to 15 years in jail for insulting the royal family after performing in a play that featured a fictional king and his advisor\\'\\n \\'New Research Blames Insiders Not North Korea for Sony Hack\\'\\n \\'Russian ruble drops 7 percent as economy shrinks\\'\\n \\'Egyptian court permanently bans Jewish festival on moral grounds\\'\\n \\'Turkish anchorwoman detained for tweet about corruption\\'\\n \\'French Government Quietly Enacts Controversial Surveillance Law On Christmas Eve\\'\\n \"Bosnian Police Raid Top News Website: Police raided the countrys most popular news website Klix after it published a recording on which it alleged that the Bosnian Serb prime minister spoke about \\'buying\\' electoral support.\"\\n \\'Possible Case of Ebola in Glasgow, Scotland\\'\\n \\'Turkey is being used as one of the primary routes for weapons smuggling to the Islamic State of Iraq and the Levant (ISIL) and al-Nusra, according to a United Nations report.\\'\\n \\'Swedish mosque set ablaze in second suspected arson attack in a week\\'\\n \\'Cybersecurity Firm Identifies Six In Sony Hack  One A Former Company Insider\\'\\n \\'The U.N. General Assembly voted unanimously Monday to ask Secretary-General Ban Ki-moon to appoint an independent panel of experts to examine new information about the mysterious plane crash that killed U.N. Secretary-General Dag Hammarskjold on a peace mission to newly independent Congo in 1961\\'\\n \\'\"The regime must be destroyed\": Alexei Navalny, Russia\\\\\\'s most prominent opposition leader, calls for mass protests in Moscow after convicted on fraud charges that are considered politically motivated\\'\\n \\'Aleksei Navalny, Russian opposition leader, is convicted of criminal fraud charges and handed down a three-and-half year suspended sentence\\'\\n \\'Search area for Air Asia QZ8501 expanded, still no trace of aircraft found.\\'\\n \\'Ebola case confirmed in Glasgow | World news\\'\\n \\'AirAsia plane carrying 153 people overshoots runway in the Philippines\\'\\n \"One of China\\'s most industrialized cities has put a cap on sales of new cars with residents only permitted to acquire a new vehicle either by lottery or auction due to pollution\"]'\n"
     ]
    },
    {
     "name": "stdout",
     "output_type": "stream",
     "text": [
      " '[\\'AirAsia flight found at the bottom of the Java Sea\\'\\n \"North Korean defector details \\'human experiments\\' -- use of mentally and physically handicapped children in chemical weapons tests \\'the last straw\\'\"\\n \\'Korean Air ex-executive Cho Hyun-ah arrested - earlier she ordered a plane to turn back on the runway in New York after nuts were served in a bag, not on a plate\\'\\n \\'South Korean to drop Sony film \"The Interview\" in North Korea by balloon\\'\\n \\'U.S. opening of oil export widens battle: The Obama administration has opened a new front in the global battle for oil market share, effectively clearing the way for the shipment of as much as a million barrels per day of ultra-light U.S. crude to the rest of the world\\'\\n \\'FBI agents investigating the Sony Pictures hack were briefed Monday by a security firm that says its research points to laid-off Sony staff, not North Korea, as the prepatrator\\'\\n \\'Indian Government Orders Blocking of 32 Websites Including GitHub, Archive.org, SourceForge\\'\\n \\'Russia annual inflation jumps to 11.4% as rouble falls\\'\\n \\'WikiLeaks claims employees Google mail, metadata seized by US government [Updated]\\'\\n \\'Militant mistakenly broadcasts his location\\'\\n \\'Armed bandits rob 300 tourists on Venezuela beach\\'\\n \\'Venezuela confirms recession, inflation hits 63.6 percent in Nov\\'\\n \\'Palestinian UN resolution fails\\'\\n \\'More non-Mexicans than Mexicans apprehended at U.S. border in 2014, new study finds\\'\\n \\'Belarus eager to normalize relations with West\\'\\n \\'Newly published NSA documents show agency could grab all Skype traffic\\'\\n \\'Britain says it cannot support new Palestinian UN draft resolution\\'\\n \"Bolivias Morales: US \\'Backs Drug Trafficking\\'\"\\n \"Euro zone politicians are not obliged to rescue Greece as the country is no longer of systemic importance to the single currency bloc, a senior member of German Chancellor Angela Merkel\\'s party was quoted as saying.\"\\n \\'Greece Dissolves Parliament to Prepare for Early Elections\\'\\n \\'German Chancellor Angela Merkel in a New Year\\\\\\'s address deplored the rise of a right wing populist movement, saying its leaders have \"prejudice, coldness, even hatred in their hearts\".\\'\\n \\'Al Shabaab leader killed in U.S. air strike in Mogadishu\\'\\n \\'New solar power material converts 90 percent of captured light into heat\\'\\n \\'China launches website laying claim to Senkaku Islands\\'\\n \\'At Least 33 Killed in Yemen Suicide Bombing\\']']\n"
     ]
    }
   ],
   "source": [
    "train = data[data['Date'] < '2015-01-01']\n",
    "test = data[data['Date'] >= '2015-01-01']\n",
    "\n",
    "# little cleaner for later use without redundancy\n",
    "\n",
    "#concatenate all news\n",
    "data[\"combined_news\"] = data.filter(regex=(\"Top.*\")).apply(lambda x: ''.join(str(x.values)), axis=1)\n",
    "TRAIN_END = datetime.datetime(2014,12,31)\n",
    "n_train = len(data[pd.to_datetime(data[\"Date\"]) <= TRAIN_END])\n",
    "\n",
    "X_train = data[\"combined_news\"].values[:n_train]\n",
    "y_train = data[\"Label\"].values[:n_train]\n",
    "X_test = data[\"combined_news\"].values[n_train:]\n",
    "y_test = data[\"Label\"].values[n_train:]\n",
    "\n",
    "print(X_train)"
   ]
  },
  {
   "cell_type": "code",
   "execution_count": 65,
   "metadata": {},
   "outputs": [],
   "source": [
    "def get_headlines(data):\n",
    "    headlines = []\n",
    "    for row in range(0,len(data.index)):\n",
    "        headlines.append(' '.join(str(x) for x in data.iloc[row,2:27]))\n",
    "    \n",
    "    return headlines"
   ]
  },
  {
   "cell_type": "markdown",
   "metadata": {},
   "source": [
    "# BASIC PIPELINE"
   ]
  },
  {
   "cell_type": "code",
   "execution_count": 82,
   "metadata": {},
   "outputs": [
    {
     "name": "stdout",
     "output_type": "stream",
     "text": [
      "0.5317460317460317\n",
      "0.5288138440860215\n"
     ]
    }
   ],
   "source": [
    "from sklearn.pipeline import Pipeline\n",
    "from sklearn.feature_extraction.text import TfidfVectorizer\n",
    "from sklearn.decomposition import TruncatedSVD\n",
    "from sklearn.preprocessing import Normalizer\n",
    "from sklearn.metrics import accuracy_score\n",
    "from sklearn.metrics import roc_auc_score\n",
    "\n",
    "vectorizer = TfidfVectorizer(stop_words=\"english\", ngram_range=(2, 3), max_features=10_000)\n",
    "reducer = TruncatedSVD(n_components=5000)\n",
    "normalizer = Normalizer()\n",
    "clf = LogisticRegression(solver='lbfgs')\n",
    "\n",
    "\n",
    "model = Pipeline([('vectorizer', vectorizer),('reducer', reducer),('normalizer', normalizer),('clf',clf)])\n",
    "model.fit(X_train, y_train)\n",
    "\n",
    "preds = model.predict(X_test)\n",
    "print(accuracy_score(y_test, preds))\n",
    "print(roc_auc_score(y_true = y_test, y_score = preds))"
   ]
  },
  {
   "cell_type": "markdown",
   "metadata": {},
   "source": [
    "# MODEL 1"
   ]
  },
  {
   "cell_type": "code",
   "execution_count": 83,
   "metadata": {},
   "outputs": [],
   "source": [
    "trainheadlines = []\n",
    "for row in range(0,len(train.index)):\n",
    "    trainheadlines.append(' '.join(str(x) for x in train.iloc[row,2:27]))"
   ]
  },
  {
   "cell_type": "code",
   "execution_count": 84,
   "metadata": {},
   "outputs": [
    {
     "data": {
      "text/plain": [
       "'b\"Georgia \\'downs two Russian warplanes\\' as countries move to brink of war\" b\\'BREAKING: Musharraf to be impeached.\\' b\\'Russia Today: Columns of troops roll into South Ossetia; footage from fighting (YouTube)\\' b\\'Russian tanks are moving towards the capital of South Ossetia, which has reportedly been completely destroyed by Georgian artillery fire\\' b\"Afghan children raped with \\'impunity,\\' U.N. official says - this is sick, a three year old was raped and they do nothing\" b\\'150 Russian tanks have entered South Ossetia whilst Georgia shoots down two Russian jets.\\' b\"Breaking: Georgia invades South Ossetia, Russia warned it would intervene on SO\\'s side\" b\"The \\'enemy combatent\\' trials are nothing but a sham: Salim Haman has been sentenced to 5 1/2 years, but will be kept longer anyway just because they feel like it.\" b\\'Georgian troops retreat from S. Osettain capital, presumably leaving several hundred people killed. [VIDEO]\\' b\\'Did the U.S. Prep Georgia for War with Russia?\\' b\\'Rice Gives Green Light for Israel to Attack Iran: Says U.S. has no veto over Israeli military ops\\' b\\'Announcing:Class Action Lawsuit on Behalf of American Public Against the FBI\\' b\"So---Russia and Georgia are at war and the NYT\\'s top story is opening ceremonies of the Olympics?  What a fucking disgrace and yet further proof of the decline of journalism.\" b\"China tells Bush to stay out of other countries\\' affairs\" b\\'Did World War III start today?\\' b\\'Georgia Invades South Ossetia - if Russia gets involved, will NATO absorb Georgia and unleash a full scale war?\\' b\\'Al-Qaeda Faces Islamist Backlash\\' b\\'Condoleezza Rice: \"The US would not act to prevent an Israeli strike on Iran.\" Israeli Defense Minister Ehud Barak: \"Israel is prepared for uncompromising victory in the case of military hostilities.\"\\' b\\'This is a busy day:  The European Union has approved new sanctions against Iran in protest at its nuclear programme.\\' b\"Georgia will withdraw 1,000 soldiers from Iraq to help fight off Russian forces in Georgia\\'s breakaway region of South Ossetia\" b\\'Why the Pentagon Thinks Attacking Iran is a Bad Idea - US News &amp; World Report\\' b\\'Caucasus in crisis: Georgia invades South Ossetia\\' b\\'Indian shoe manufactory  - And again in a series of \"you do not like your work?\"\\' b\\'Visitors Suffering from Mental Illnesses Banned from Olympics\\' b\"No Help for Mexico\\'s Kidnapping Surge\"'"
      ]
     },
     "execution_count": 84,
     "metadata": {},
     "output_type": "execute_result"
    }
   ],
   "source": [
    "trainheadlines[0]"
   ]
  },
  {
   "cell_type": "code",
   "execution_count": 86,
   "metadata": {},
   "outputs": [
    {
     "name": "stdout",
     "output_type": "stream",
     "text": [
      "(1611, 31675)\n"
     ]
    }
   ],
   "source": [
    "basicvectorizer = CountVectorizer()\n",
    "basictrain = basicvectorizer.fit_transform(trainheadlines)\n",
    "print(basictrain.shape)\n",
    "# print(basictrain[0])"
   ]
  },
  {
   "cell_type": "code",
   "execution_count": 90,
   "metadata": {},
   "outputs": [],
   "source": [
    "basicmodel = LogisticRegression()\n",
    "basicmodel = basicmodel.fit(basictrain, train[\"Label\"])"
   ]
  },
  {
   "cell_type": "code",
   "execution_count": 91,
   "metadata": {},
   "outputs": [],
   "source": [
    "testheadlines = []\n",
    "for row in range(0,len(test.index)):\n",
    "    testheadlines.append(' '.join(str(x) for x in test.iloc[row,2:27]))\n",
    "basictest = basicvectorizer.transform(testheadlines)\n",
    "predictions = basicmodel.predict(basictest)"
   ]
  },
  {
   "cell_type": "code",
   "execution_count": 105,
   "metadata": {
    "scrolled": true
   },
   "outputs": [
    {
     "name": "stdout",
     "output_type": "stream",
     "text": [
      "Predicted   0    1\n",
      "Actual            \n",
      "0          61  125\n",
      "1          92  100\n",
      "              precision    recall  f1-score   support\n",
      "\n",
      "           0       0.40      0.33      0.36       186\n",
      "           1       0.44      0.52      0.48       192\n",
      "\n",
      "   micro avg       0.43      0.43      0.43       378\n",
      "   macro avg       0.42      0.42      0.42       378\n",
      "weighted avg       0.42      0.43      0.42       378\n",
      "\n"
     ]
    }
   ],
   "source": [
    "print(pd.crosstab(test[\"Label\"], predictions, rownames=[\"Actual\"], colnames=[\"Predicted\"]))\n",
    "print(sklearn.metrics.classification_report(y_test, predictions))"
   ]
  },
  {
   "cell_type": "markdown",
   "metadata": {},
   "source": [
    "# MODEL 2"
   ]
  },
  {
   "cell_type": "code",
   "execution_count": 100,
   "metadata": {},
   "outputs": [],
   "source": [
    "advancedvectorizer = CountVectorizer(ngram_range=(3,3))\n",
    "advancedtrain = advancedvectorizer.fit_transform(trainheadlines)"
   ]
  },
  {
   "cell_type": "code",
   "execution_count": 102,
   "metadata": {},
   "outputs": [],
   "source": [
    "advancedmodel = LogisticRegression(solver='lbfgs')\n",
    "advancedmodel = advancedmodel.fit(advancedtrain, train[\"Label\"])"
   ]
  },
  {
   "cell_type": "code",
   "execution_count": 103,
   "metadata": {},
   "outputs": [],
   "source": [
    "testheadlines = []\n",
    "for row in range(0,len(test.index)):\n",
    "    testheadlines.append(' '.join(str(x) for x in test.iloc[row,2:27]))\n",
    "advancedtest = advancedvectorizer.transform(testheadlines)\n",
    "advpredictions = advancedmodel.predict(advancedtest)"
   ]
  },
  {
   "cell_type": "code",
   "execution_count": 104,
   "metadata": {},
   "outputs": [
    {
     "name": "stdout",
     "output_type": "stream",
     "text": [
      "              precision    recall  f1-score   support\n",
      "\n",
      "           0       0.50      0.03      0.05       186\n",
      "           1       0.51      0.97      0.67       192\n",
      "\n",
      "   micro avg       0.51      0.51      0.51       378\n",
      "   macro avg       0.50      0.50      0.36       378\n",
      "weighted avg       0.50      0.51      0.36       378\n",
      "\n"
     ]
    }
   ],
   "source": [
    "print(sklearn.metrics.classification_report(test['Label'], advpredictions))"
   ]
  },
  {
   "cell_type": "markdown",
   "metadata": {},
   "source": [
    "# Deep"
   ]
  },
  {
   "cell_type": "code",
   "execution_count": 106,
   "metadata": {},
   "outputs": [],
   "source": [
    "trainheadlines = []\n",
    "for row in range(0,len(train.index)):\n",
    "    trainheadlines.append(' '.join(str(x) for x in train.iloc[row,2:27]))"
   ]
  },
  {
   "cell_type": "code",
   "execution_count": 107,
   "metadata": {},
   "outputs": [],
   "source": [
    "advancedvectorizer = CountVectorizer(ngram_range=(1,1))\n",
    "advancedtrain = advancedvectorizer.fit_transform(trainheadlines)"
   ]
  },
  {
   "cell_type": "code",
   "execution_count": 108,
   "metadata": {},
   "outputs": [],
   "source": [
    "testheadlines = []\n",
    "for row in range(0,len(test.index)):\n",
    "    testheadlines.append(' '.join(str(x) for x in test.iloc[row,2:27]))\n",
    "advancedtest = advancedvectorizer.transform(testheadlines)"
   ]
  },
  {
   "cell_type": "code",
   "execution_count": 109,
   "metadata": {},
   "outputs": [
    {
     "data": {
      "text/plain": [
       "(1611, 31675)"
      ]
     },
     "execution_count": 109,
     "metadata": {},
     "output_type": "execute_result"
    }
   ],
   "source": [
    "advancedtrain.shape"
   ]
  },
  {
   "cell_type": "code",
   "execution_count": 32,
   "metadata": {},
   "outputs": [
    {
     "data": {
      "text/plain": [
       "(378, 31675)"
      ]
     },
     "execution_count": 32,
     "metadata": {},
     "output_type": "execute_result"
    }
   ],
   "source": [
    "advancedtest.shape"
   ]
  },
  {
   "cell_type": "markdown",
   "metadata": {},
   "source": [
    "# Keras model"
   ]
  },
  {
   "cell_type": "code",
   "execution_count": 110,
   "metadata": {},
   "outputs": [],
   "source": [
    "import keras"
   ]
  },
  {
   "cell_type": "code",
   "execution_count": 111,
   "metadata": {
    "scrolled": true
   },
   "outputs": [],
   "source": [
    "model = keras.models.Sequential()\n",
    "\n",
    "model.add(keras.layers.Dense(16, activation='sigmoid', input_shape=(advancedtrain.shape[1],)))\n",
    "model.add(keras.layers.Dropout(0.9))\n",
    "model.add(keras.layers.Dense(8, activation='relu'))\n",
    "model.add(keras.layers.Dropout(0.9))\n",
    "model.add(keras.layers.Dense(4, activation='relu'))\n",
    "\n",
    "model.add(keras.layers.Dense(1, activation='sigmoid'))"
   ]
  },
  {
   "cell_type": "code",
   "execution_count": 112,
   "metadata": {},
   "outputs": [],
   "source": [
    "model.compile(\n",
    "    optimizer='adam',\n",
    "    loss='binary_crossentropy',\n",
    "    metrics=['accuracy']\n",
    ")"
   ]
  },
  {
   "cell_type": "code",
   "execution_count": 113,
   "metadata": {},
   "outputs": [
    {
     "name": "stdout",
     "output_type": "stream",
     "text": [
      "_________________________________________________________________\n",
      "Layer (type)                 Output Shape              Param #   \n",
      "=================================================================\n",
      "dense_5 (Dense)              (None, 16)                506816    \n",
      "_________________________________________________________________\n",
      "dropout_3 (Dropout)          (None, 16)                0         \n",
      "_________________________________________________________________\n",
      "dense_6 (Dense)              (None, 8)                 136       \n",
      "_________________________________________________________________\n",
      "dropout_4 (Dropout)          (None, 8)                 0         \n",
      "_________________________________________________________________\n",
      "dense_7 (Dense)              (None, 4)                 36        \n",
      "_________________________________________________________________\n",
      "dense_8 (Dense)              (None, 1)                 5         \n",
      "=================================================================\n",
      "Total params: 506,993\n",
      "Trainable params: 506,993\n",
      "Non-trainable params: 0\n",
      "_________________________________________________________________\n"
     ]
    }
   ],
   "source": [
    "model.summary()"
   ]
  },
  {
   "cell_type": "code",
   "execution_count": 114,
   "metadata": {},
   "outputs": [
    {
     "name": "stdout",
     "output_type": "stream",
     "text": [
      "Train on 1611 samples, validate on 378 samples\n",
      "Epoch 1/15\n",
      "1611/1611 [==============================] - ETA: 5:49 - loss: 0.8972 - acc: 0.410 - ETA: 1:41 - loss: 1.0349 - acc: 0.473 - ETA: 51s - loss: 1.0240 - acc: 0.476 - ETA: 30s - loss: 1.0076 - acc: 0.49 - ETA: 18s - loss: 1.0630 - acc: 0.48 - ETA: 10s - loss: 1.0661 - acc: 0.50 - ETA: 5s - loss: 1.0239 - acc: 0.5100 - ETA: 1s - loss: 0.9942 - acc: 0.510 - 30s 19ms/step - loss: 0.9841 - acc: 0.5071 - val_loss: 0.6932 - val_acc: 0.5079\n",
      "Epoch 2/15\n",
      "1611/1611 [==============================] - ETA: 0s - loss: 0.8339 - acc: 0.550 - ETA: 0s - loss: 0.7642 - acc: 0.540 - ETA: 0s - loss: 0.7748 - acc: 0.532 - ETA: 0s - loss: 0.7666 - acc: 0.528 - ETA: 0s - loss: 0.7549 - acc: 0.521 - ETA: 0s - loss: 0.7366 - acc: 0.532 - ETA: 0s - loss: 0.7442 - acc: 0.529 - ETA: 0s - loss: 0.7409 - acc: 0.533 - ETA: 0s - loss: 0.7354 - acc: 0.536 - 1s 498us/step - loss: 0.7345 - acc: 0.5307 - val_loss: 0.6933 - val_acc: 0.5079\n",
      "Epoch 3/15\n",
      "1611/1611 [==============================] - ETA: 0s - loss: 0.7999 - acc: 0.490 - ETA: 0s - loss: 0.7482 - acc: 0.530 - ETA: 0s - loss: 0.7342 - acc: 0.514 - ETA: 0s - loss: 0.7267 - acc: 0.512 - ETA: 0s - loss: 0.7236 - acc: 0.517 - ETA: 0s - loss: 0.7193 - acc: 0.519 - ETA: 0s - loss: 0.7164 - acc: 0.517 - ETA: 0s - loss: 0.7151 - acc: 0.515 - ETA: 0s - loss: 0.7129 - acc: 0.518 - 1s 471us/step - loss: 0.7126 - acc: 0.5189 - val_loss: 0.6932 - val_acc: 0.5079\n",
      "Epoch 4/15\n",
      "1611/1611 [==============================] - ETA: 0s - loss: 0.6943 - acc: 0.510 - ETA: 0s - loss: 0.6905 - acc: 0.550 - ETA: 0s - loss: 0.6874 - acc: 0.558 - ETA: 0s - loss: 0.6909 - acc: 0.564 - ETA: 0s - loss: 0.6947 - acc: 0.548 - ETA: 0s - loss: 0.6974 - acc: 0.542 - ETA: 0s - loss: 0.6986 - acc: 0.543 - ETA: 0s - loss: 0.6983 - acc: 0.542 - 1s 469us/step - loss: 0.6980 - acc: 0.5431 - val_loss: 0.6933 - val_acc: 0.5079\n",
      "Epoch 5/15\n",
      "1611/1611 [==============================] - ETA: 0s - loss: 0.6824 - acc: 0.560 - ETA: 0s - loss: 0.6880 - acc: 0.533 - ETA: 0s - loss: 0.6889 - acc: 0.552 - ETA: 0s - loss: 0.6922 - acc: 0.541 - ETA: 0s - loss: 0.6927 - acc: 0.542 - ETA: 0s - loss: 0.6920 - acc: 0.535 - ETA: 0s - loss: 0.6913 - acc: 0.529 - ETA: 0s - loss: 0.6914 - acc: 0.535 - 1s 459us/step - loss: 0.6906 - acc: 0.5407 - val_loss: 0.6933 - val_acc: 0.5079\n",
      "Epoch 6/15\n",
      "1611/1611 [==============================] - ETA: 0s - loss: 0.6748 - acc: 0.600 - ETA: 0s - loss: 0.6809 - acc: 0.590 - ETA: 0s - loss: 0.6894 - acc: 0.560 - ETA: 0s - loss: 0.6919 - acc: 0.570 - ETA: 0s - loss: 0.6946 - acc: 0.555 - ETA: 0s - loss: 0.6956 - acc: 0.553 - ETA: 0s - loss: 0.6940 - acc: 0.555 - ETA: 0s - loss: 0.6948 - acc: 0.552 - 1s 456us/step - loss: 0.6947 - acc: 0.5537 - val_loss: 0.6934 - val_acc: 0.5079\n",
      "Epoch 7/15\n",
      "1611/1611 [==============================] - ETA: 0s - loss: 0.6985 - acc: 0.480 - ETA: 0s - loss: 0.6977 - acc: 0.496 - ETA: 0s - loss: 0.6952 - acc: 0.502 - ETA: 0s - loss: 0.6951 - acc: 0.510 - ETA: 0s - loss: 0.6934 - acc: 0.520 - ETA: 0s - loss: 0.6920 - acc: 0.524 - ETA: 0s - loss: 0.6903 - acc: 0.531 - ETA: 0s - loss: 0.6896 - acc: 0.537 - 1s 449us/step - loss: 0.6893 - acc: 0.5369 - val_loss: 0.6938 - val_acc: 0.5079\n",
      "Epoch 8/15\n",
      "1611/1611 [==============================] - ETA: 0s - loss: 0.6975 - acc: 0.530 - ETA: 0s - loss: 0.6976 - acc: 0.513 - ETA: 0s - loss: 0.7006 - acc: 0.500 - ETA: 0s - loss: 0.6994 - acc: 0.520 - ETA: 0s - loss: 0.6972 - acc: 0.531 - ETA: 0s - loss: 0.6961 - acc: 0.530 - ETA: 0s - loss: 0.6963 - acc: 0.528 - ETA: 0s - loss: 0.6955 - acc: 0.532 - 1s 449us/step - loss: 0.6949 - acc: 0.5338 - val_loss: 0.6940 - val_acc: 0.5079\n",
      "Epoch 9/15\n",
      "1611/1611 [==============================] - ETA: 0s - loss: 0.6860 - acc: 0.560 - ETA: 0s - loss: 0.6884 - acc: 0.523 - ETA: 0s - loss: 0.6888 - acc: 0.546 - ETA: 0s - loss: 0.6886 - acc: 0.550 - ETA: 0s - loss: 0.6897 - acc: 0.543 - ETA: 0s - loss: 0.6913 - acc: 0.541 - ETA: 0s - loss: 0.6903 - acc: 0.540 - ETA: 0s - loss: 0.6904 - acc: 0.539 - 1s 457us/step - loss: 0.6904 - acc: 0.5394 - val_loss: 0.6941 - val_acc: 0.5079\n",
      "Epoch 10/15\n",
      "1611/1611 [==============================] - ETA: 0s - loss: 0.6790 - acc: 0.570 - ETA: 0s - loss: 0.6810 - acc: 0.566 - ETA: 0s - loss: 0.6847 - acc: 0.572 - ETA: 0s - loss: 0.6864 - acc: 0.565 - ETA: 0s - loss: 0.6889 - acc: 0.548 - ETA: 0s - loss: 0.6924 - acc: 0.542 - ETA: 0s - loss: 0.6924 - acc: 0.540 - ETA: 0s - loss: 0.6928 - acc: 0.536 - 1s 471us/step - loss: 0.6925 - acc: 0.5388 - val_loss: 0.6943 - val_acc: 0.5079\n",
      "Epoch 11/15\n",
      "1611/1611 [==============================] - ETA: 0s - loss: 0.6834 - acc: 0.510 - ETA: 0s - loss: 0.6828 - acc: 0.533 - ETA: 0s - loss: 0.6941 - acc: 0.528 - ETA: 0s - loss: 0.6946 - acc: 0.521 - ETA: 0s - loss: 0.6915 - acc: 0.536 - ETA: 0s - loss: 0.6958 - acc: 0.543 - ETA: 0s - loss: 0.6959 - acc: 0.547 - ETA: 0s - loss: 0.6962 - acc: 0.546 - 1s 467us/step - loss: 0.6957 - acc: 0.5469 - val_loss: 0.6944 - val_acc: 0.5079\n",
      "Epoch 12/15\n",
      "1611/1611 [==============================] - ETA: 0s - loss: 0.6952 - acc: 0.500 - ETA: 0s - loss: 0.6873 - acc: 0.573 - ETA: 0s - loss: 0.6891 - acc: 0.560 - ETA: 0s - loss: 0.6887 - acc: 0.554 - ETA: 0s - loss: 0.6897 - acc: 0.548 - ETA: 0s - loss: 0.6893 - acc: 0.546 - ETA: 0s - loss: 0.6887 - acc: 0.545 - ETA: 0s - loss: 0.6894 - acc: 0.542 - 1s 469us/step - loss: 0.6903 - acc: 0.5382 - val_loss: 0.6944 - val_acc: 0.5079\n",
      "Epoch 13/15\n",
      "1611/1611 [==============================] - ETA: 0s - loss: 0.6823 - acc: 0.570 - ETA: 0s - loss: 0.6837 - acc: 0.556 - ETA: 0s - loss: 0.6877 - acc: 0.530 - ETA: 0s - loss: 0.6854 - acc: 0.541 - ETA: 0s - loss: 0.6892 - acc: 0.526 - ETA: 0s - loss: 0.6895 - acc: 0.529 - ETA: 0s - loss: 0.6901 - acc: 0.532 - ETA: 0s - loss: 0.6898 - acc: 0.537 - 1s 490us/step - loss: 0.6909 - acc: 0.5363 - val_loss: 0.6945 - val_acc: 0.5079\n",
      "Epoch 14/15\n",
      "1611/1611 [==============================] - ETA: 0s - loss: 0.6864 - acc: 0.580 - ETA: 0s - loss: 0.6873 - acc: 0.566 - ETA: 0s - loss: 0.6893 - acc: 0.548 - ETA: 0s - loss: 0.6884 - acc: 0.558 - ETA: 0s - loss: 0.6884 - acc: 0.553 - ETA: 0s - loss: 0.6881 - acc: 0.554 - ETA: 0s - loss: 0.6906 - acc: 0.546 - ETA: 0s - loss: 0.6919 - acc: 0.541 - 1s 481us/step - loss: 0.6925 - acc: 0.5357 - val_loss: 0.6948 - val_acc: 0.5079\n",
      "Epoch 15/15\n",
      "1611/1611 [==============================] - ETA: 0s - loss: 0.6966 - acc: 0.520 - ETA: 0s - loss: 0.6902 - acc: 0.530 - ETA: 0s - loss: 0.6891 - acc: 0.530 - ETA: 0s - loss: 0.6869 - acc: 0.545 - ETA: 0s - loss: 0.6889 - acc: 0.536 - ETA: 0s - loss: 0.6891 - acc: 0.533 - ETA: 0s - loss: 0.6884 - acc: 0.538 - ETA: 0s - loss: 0.6878 - acc: 0.540 - 1s 456us/step - loss: 0.6877 - acc: 0.5431 - val_loss: 0.6947 - val_acc: 0.5079\n"
     ]
    },
    {
     "data": {
      "text/plain": [
       "<keras.callbacks.History at 0x1e74ca0ab38>"
      ]
     },
     "execution_count": 114,
     "metadata": {},
     "output_type": "execute_result"
    }
   ],
   "source": [
    "model.fit(\n",
    "    advancedtrain,\n",
    "    train['Label'],\n",
    "    batch_size=100,\n",
    "    epochs=15,\n",
    "    validation_data=(advancedtest, test['Label'])\n",
    ")"
   ]
  },
  {
   "cell_type": "markdown",
   "metadata": {},
   "source": [
    "# Binary classifier model - why is this the title?!"
   ]
  },
  {
   "cell_type": "code",
   "execution_count": 115,
   "metadata": {},
   "outputs": [],
   "source": [
    "import spacy"
   ]
  },
  {
   "cell_type": "code",
   "execution_count": 121,
   "metadata": {},
   "outputs": [],
   "source": [
    "def cleaning(doc):\n",
    "    txt = [token.lemma_ for token in doc if not token.is_stop]\n",
    "    if len(txt) > 2:\n",
    "        return ' '.join(txt)"
   ]
  },
  {
   "cell_type": "code",
   "execution_count": 127,
   "metadata": {},
   "outputs": [],
   "source": [
    "nlp = spacy.load('en', disable=['ner', 'parser'])"
   ]
  },
  {
   "cell_type": "code",
   "execution_count": 128,
   "metadata": {},
   "outputs": [],
   "source": [
    "trainheadlines = []\n",
    "labelstrain = []\n",
    "for row in range(0,len(train.index)):\n",
    "    trainheadlines.extend(str(x) for x in train.iloc[row,2:27])\n",
    "    labelstrain.extend( [train.iloc[row, 1],]* 25 )"
   ]
  },
  {
   "cell_type": "code",
   "execution_count": 129,
   "metadata": {},
   "outputs": [],
   "source": [
    "testheadlines = []\n",
    "labelstest = []\n",
    "for row in range(0,len(test.index)):\n",
    "    testheadlines.extend(str(x) for x in test.iloc[row,2:27])\n",
    "    labelstest.extend( [test.iloc[row, 1],] * 25 )"
   ]
  },
  {
   "cell_type": "code",
   "execution_count": 130,
   "metadata": {},
   "outputs": [],
   "source": [
    "import re\n",
    "\n",
    "brief_cleaning = (re.sub(\"[^A-Za-z\\\"]+\", ' ', str(row)).lower() for row in trainheadlines)\n",
    "\n",
    "txt = [cleaning(doc) for doc in nlp.pipe(brief_cleaning, batch_size=5000, n_threads=-1)]"
   ]
  },
  {
   "cell_type": "code",
   "execution_count": 131,
   "metadata": {},
   "outputs": [
    {
     "data": {
      "text/plain": [
       "['b\"georgia down russian warplane country brink war \"',\n",
       " 'b break musharraf impeach',\n",
       " 'b russia today column troop roll south ossetia footage fight youtube',\n",
       " 'b russian tank move capital south ossetia reportedly completely destroy georgian artillery fire',\n",
       " 'b\"afghan child rape impunity u n official say sick year old rape \"',\n",
       " 'b russian tank enter south ossetia whilst georgia shoot russian jet',\n",
       " 'b\"breake georgia invade south ossetia russia warn intervene s \"',\n",
       " 'b\"the enemy combatent trial sham salim haman sentence year keep longer feel like \"',\n",
       " 'b georgian troop retreat s osettain capital presumably leave people kill video',\n",
       " 'b u s prep georgia war russia']"
      ]
     },
     "execution_count": 131,
     "metadata": {},
     "output_type": "execute_result"
    }
   ],
   "source": [
    "txt[:10]"
   ]
  },
  {
   "cell_type": "code",
   "execution_count": 132,
   "metadata": {},
   "outputs": [],
   "source": [
    "# advancedvectorizer = CountVectorizer(ngram_range=(2,2))\n",
    "advancedvectorizer = CountVectorizer()\n",
    "advancedtrain = advancedvectorizer.fit_transform(trainheadlines)\n",
    "advancedtest = advancedvectorizer.transform(testheadlines)"
   ]
  },
  {
   "cell_type": "code",
   "execution_count": 133,
   "metadata": {},
   "outputs": [],
   "source": [
    "labelstrain = np.array(labelstrain)\n",
    "labelstest = np.array(labelstest)"
   ]
  },
  {
   "cell_type": "code",
   "execution_count": 134,
   "metadata": {},
   "outputs": [
    {
     "name": "stdout",
     "output_type": "stream",
     "text": [
      "(40275, 31675)\n",
      "(9450, 31675)\n",
      "(40275,)\n",
      "(9450,)\n"
     ]
    }
   ],
   "source": [
    "print(advancedtrain.shape)\n",
    "print(advancedtest.shape)\n",
    "print(labelstrain.shape)\n",
    "print(labelstest.shape)"
   ]
  },
  {
   "cell_type": "code",
   "execution_count": null,
   "metadata": {},
   "outputs": [],
   "source": []
  },
  {
   "cell_type": "code",
   "execution_count": 135,
   "metadata": {},
   "outputs": [],
   "source": [
    "import keras"
   ]
  },
  {
   "cell_type": "code",
   "execution_count": 136,
   "metadata": {},
   "outputs": [],
   "source": [
    "model = keras.models.Sequential()\n",
    "\n",
    "model.add(keras.layers.Dense(16, activation='sigmoid', input_shape=(advancedtrain.shape[1],)))\n",
    "model.add(keras.layers.Dropout(0.9))\n",
    "model.add(keras.layers.Dense(32, activation='relu'))\n",
    "model.add(keras.layers.Dropout(0.9))\n",
    "model.add(keras.layers.Dense(32, activation='relu'))\n",
    "model.add(keras.layers.Dropout(0.9))\n",
    "model.add(keras.layers.Dense(32, activation='relu'))\n",
    "model.add(keras.layers.Dropout(0.9))\n",
    "\n",
    "model.add(keras.layers.Dense(1, activation='sigmoid'))"
   ]
  },
  {
   "cell_type": "code",
   "execution_count": 137,
   "metadata": {},
   "outputs": [],
   "source": [
    "model.compile(\n",
    "    optimizer='adam',\n",
    "    loss='binary_crossentropy',\n",
    "    metrics=['accuracy']\n",
    ")"
   ]
  },
  {
   "cell_type": "code",
   "execution_count": 138,
   "metadata": {},
   "outputs": [
    {
     "name": "stdout",
     "output_type": "stream",
     "text": [
      "_________________________________________________________________\n",
      "Layer (type)                 Output Shape              Param #   \n",
      "=================================================================\n",
      "dense_9 (Dense)              (None, 16)                506816    \n",
      "_________________________________________________________________\n",
      "dropout_5 (Dropout)          (None, 16)                0         \n",
      "_________________________________________________________________\n",
      "dense_10 (Dense)             (None, 32)                544       \n",
      "_________________________________________________________________\n",
      "dropout_6 (Dropout)          (None, 32)                0         \n",
      "_________________________________________________________________\n",
      "dense_11 (Dense)             (None, 32)                1056      \n",
      "_________________________________________________________________\n",
      "dropout_7 (Dropout)          (None, 32)                0         \n",
      "_________________________________________________________________\n",
      "dense_12 (Dense)             (None, 32)                1056      \n",
      "_________________________________________________________________\n",
      "dropout_8 (Dropout)          (None, 32)                0         \n",
      "_________________________________________________________________\n",
      "dense_13 (Dense)             (None, 1)                 33        \n",
      "=================================================================\n",
      "Total params: 509,505\n",
      "Trainable params: 509,505\n",
      "Non-trainable params: 0\n",
      "_________________________________________________________________\n"
     ]
    }
   ],
   "source": [
    "model.summary()"
   ]
  },
  {
   "cell_type": "code",
   "execution_count": 139,
   "metadata": {},
   "outputs": [
    {
     "name": "stdout",
     "output_type": "stream",
     "text": [
      "Train on 40275 samples, validate on 9450 samples\n",
      "Epoch 1/5\n",
      "40275/40275 [==============================] - ETA: 2:24:53 - loss: 2.2677 - acc: 0.41 - ETA: 48:13 - loss: 2.4314 - acc: 0.5000 - ETA: 28:52 - loss: 2.5026 - acc: 0.49 - ETA: 20:35 - loss: 2.6527 - acc: 0.49 - ETA: 15:59 - loss: 2.5830 - acc: 0.51 - ETA: 13:03 - loss: 2.5698 - acc: 0.50 - ETA: 11:01 - loss: 2.5176 - acc: 0.51 - ETA: 9:32 - loss: 2.5305 - acc: 0.5140 - ETA: 8:24 - loss: 2.4749 - acc: 0.513 - ETA: 7:30 - loss: 2.4290 - acc: 0.520 - ETA: 6:46 - loss: 2.4927 - acc: 0.517 - ETA: 6:10 - loss: 2.4785 - acc: 0.519 - ETA: 5:40 - loss: 2.4807 - acc: 0.518 - ETA: 5:14 - loss: 2.4678 - acc: 0.519 - ETA: 4:52 - loss: 2.4581 - acc: 0.517 - ETA: 4:32 - loss: 2.4546 - acc: 0.518 - ETA: 4:15 - loss: 2.4469 - acc: 0.521 - ETA: 4:00 - loss: 2.4651 - acc: 0.517 - ETA: 3:47 - loss: 2.4567 - acc: 0.518 - ETA: 3:34 - loss: 2.4458 - acc: 0.519 - ETA: 3:23 - loss: 2.4114 - acc: 0.522 - ETA: 3:13 - loss: 2.4340 - acc: 0.520 - ETA: 3:04 - loss: 2.4182 - acc: 0.520 - ETA: 2:56 - loss: 2.4096 - acc: 0.520 - ETA: 2:48 - loss: 2.3957 - acc: 0.520 - ETA: 2:41 - loss: 2.3780 - acc: 0.519 - ETA: 2:35 - loss: 2.3671 - acc: 0.519 - ETA: 2:29 - loss: 2.3774 - acc: 0.519 - ETA: 2:23 - loss: 2.3797 - acc: 0.516 - ETA: 2:18 - loss: 2.3663 - acc: 0.518 - ETA: 2:13 - loss: 2.3460 - acc: 0.520 - ETA: 2:09 - loss: 2.3579 - acc: 0.518 - ETA: 2:04 - loss: 2.3629 - acc: 0.519 - ETA: 2:00 - loss: 2.3622 - acc: 0.519 - ETA: 1:56 - loss: 2.3525 - acc: 0.520 - ETA: 1:53 - loss: 2.3487 - acc: 0.520 - ETA: 1:49 - loss: 2.3325 - acc: 0.521 - ETA: 1:46 - loss: 2.3268 - acc: 0.519 - ETA: 1:43 - loss: 2.3198 - acc: 0.519 - ETA: 1:40 - loss: 2.3072 - acc: 0.520 - ETA: 1:37 - loss: 2.2973 - acc: 0.521 - ETA: 1:35 - loss: 2.2872 - acc: 0.522 - ETA: 1:32 - loss: 2.2834 - acc: 0.523 - ETA: 1:30 - loss: 2.2757 - acc: 0.523 - ETA: 1:27 - loss: 2.2663 - acc: 0.524 - ETA: 1:25 - loss: 2.2707 - acc: 0.523 - ETA: 1:23 - loss: 2.2573 - acc: 0.522 - ETA: 1:21 - loss: 2.2533 - acc: 0.523 - ETA: 1:19 - loss: 2.2426 - acc: 0.522 - ETA: 1:17 - loss: 2.2339 - acc: 0.523 - ETA: 1:15 - loss: 2.2391 - acc: 0.522 - ETA: 1:13 - loss: 2.2429 - acc: 0.522 - ETA: 1:12 - loss: 2.2421 - acc: 0.522 - ETA: 1:10 - loss: 2.2360 - acc: 0.522 - ETA: 1:09 - loss: 2.2285 - acc: 0.522 - ETA: 1:07 - loss: 2.2191 - acc: 0.524 - ETA: 1:06 - loss: 2.2123 - acc: 0.524 - ETA: 1:04 - loss: 2.2045 - acc: 0.524 - ETA: 1:03 - loss: 2.2037 - acc: 0.524 - ETA: 1:01 - loss: 2.1966 - acc: 0.524 - ETA: 1:00 - loss: 2.1883 - acc: 0.525 - ETA: 59s - loss: 2.1829 - acc: 0.525 - ETA: 58s - loss: 2.1774 - acc: 0.52 - ETA: 57s - loss: 2.1687 - acc: 0.52 - ETA: 55s - loss: 2.1665 - acc: 0.52 - ETA: 54s - loss: 2.1706 - acc: 0.52 - ETA: 53s - loss: 2.1706 - acc: 0.52 - ETA: 52s - loss: 2.1730 - acc: 0.52 - ETA: 51s - loss: 2.1646 - acc: 0.52 - ETA: 50s - loss: 2.1606 - acc: 0.52 - ETA: 49s - loss: 2.1677 - acc: 0.52 - ETA: 48s - loss: 2.1683 - acc: 0.52 - ETA: 47s - loss: 2.1705 - acc: 0.52 - ETA: 47s - loss: 2.1605 - acc: 0.52 - ETA: 46s - loss: 2.1611 - acc: 0.52 - ETA: 45s - loss: 2.1579 - acc: 0.52 - ETA: 44s - loss: 2.1574 - acc: 0.52 - ETA: 43s - loss: 2.1537 - acc: 0.52 - ETA: 42s - loss: 2.1510 - acc: 0.52 - ETA: 42s - loss: 2.1466 - acc: 0.52 - ETA: 41s - loss: 2.1409 - acc: 0.52 - ETA: 40s - loss: 2.1337 - acc: 0.52 - ETA: 39s - loss: 2.1242 - acc: 0.52 - ETA: 39s - loss: 2.1195 - acc: 0.52 - ETA: 38s - loss: 2.1140 - acc: 0.52 - ETA: 37s - loss: 2.1074 - acc: 0.52 - ETA: 37s - loss: 2.1030 - acc: 0.52 - ETA: 36s - loss: 2.0970 - acc: 0.52 - ETA: 35s - loss: 2.0962 - acc: 0.52 - ETA: 35s - loss: 2.0979 - acc: 0.52 - ETA: 34s - loss: 2.0934 - acc: 0.52 - ETA: 34s - loss: 2.0905 - acc: 0.52 - ETA: 33s - loss: 2.0889 - acc: 0.52 - ETA: 32s - loss: 2.0852 - acc: 0.52 - ETA: 32s - loss: 2.0800 - acc: 0.52 - ETA: 31s - loss: 2.0773 - acc: 0.52 - ETA: 31s - loss: 2.0698 - acc: 0.52 - ETA: 30s - loss: 2.0672 - acc: 0.52 - ETA: 30s - loss: 2.0634 - acc: 0.52 - ETA: 29s - loss: 2.0582 - acc: 0.52 - ETA: 29s - loss: 2.0543 - acc: 0.52 - ETA: 28s - loss: 2.0496 - acc: 0.52 - ETA: 28s - loss: 2.0406 - acc: 0.52 - ETA: 27s - loss: 2.0340 - acc: 0.52 - ETA: 27s - loss: 2.0346 - acc: 0.52 - ETA: 26s - loss: 2.0303 - acc: 0.52 - ETA: 26s - loss: 2.0289 - acc: 0.52 - ETA: 25s - loss: 2.0256 - acc: 0.52 - ETA: 25s - loss: 2.0191 - acc: 0.52 - ETA: 24s - loss: 2.0169 - acc: 0.52 - ETA: 24s - loss: 2.0135 - acc: 0.52 - ETA: 24s - loss: 2.0091 - acc: 0.52 - ETA: 23s - loss: 2.0069 - acc: 0.52 - ETA: 23s - loss: 2.0038 - acc: 0.52 - ETA: 22s - loss: 1.9971 - acc: 0.52 - ETA: 22s - loss: 1.9921 - acc: 0.52 - ETA: 21s - loss: 1.9862 - acc: 0.52 - ETA: 21s - loss: 1.9813 - acc: 0.52 - ETA: 21s - loss: 1.9786 - acc: 0.52 - ETA: 20s - loss: 1.9755 - acc: 0.52 - ETA: 20s - loss: 1.9691 - acc: 0.52 - ETA: 20s - loss: 1.9659 - acc: 0.52 - ETA: 19s - loss: 1.9646 - acc: 0.52 - ETA: 19s - loss: 1.9622 - acc: 0.52 - ETA: 18s - loss: 1.9567 - acc: 0.52 - ETA: 18s - loss: 1.9533 - acc: 0.52 - ETA: 18s - loss: 1.9469 - acc: 0.52 - ETA: 17s - loss: 1.9409 - acc: 0.52 - ETA: 17s - loss: 1.9373 - acc: 0.52 - ETA: 17s - loss: 1.9343 - acc: 0.52 - ETA: 16s - loss: 1.9307 - acc: 0.52 - ETA: 16s - loss: 1.9271 - acc: 0.52 - ETA: 16s - loss: 1.9218 - acc: 0.52 - ETA: 15s - loss: 1.9176 - acc: 0.52 - ETA: 15s - loss: 1.9156 - acc: 0.52 - ETA: 15s - loss: 1.9087 - acc: 0.52 - ETA: 15s - loss: 1.9047 - acc: 0.52 - ETA: 14s - loss: 1.9011 - acc: 0.52 - ETA: 14s - loss: 1.9010 - acc: 0.52 - ETA: 14s - loss: 1.8980 - acc: 0.52 - ETA: 13s - loss: 1.8967 - acc: 0.52 - ETA: 13s - loss: 1.8913 - acc: 0.52 - ETA: 13s - loss: 1.8879 - acc: 0.52 - ETA: 12s - loss: 1.8841 - acc: 0.52 - ETA: 12s - loss: 1.8794 - acc: 0.52 - ETA: 12s - loss: 1.8751 - acc: 0.52 - ETA: 12s - loss: 1.8687 - acc: 0.52 - ETA: 11s - loss: 1.8667 - acc: 0.52 - ETA: 11s - loss: 1.8640 - acc: 0.52 - ETA: 11s - loss: 1.8587 - acc: 0.52 - ETA: 11s - loss: 1.8561 - acc: 0.52 - ETA: 10s - loss: 1.8522 - acc: 0.52 - ETA: 10s - loss: 1.8487 - acc: 0.52 - ETA: 10s - loss: 1.8425 - acc: 0.52 - ETA: 10s - loss: 1.8382 - acc: 0.52 - ETA: 9s - loss: 1.8342 - acc: 0.5247 - ETA: 9s - loss: 1.8297 - acc: 0.524 - ETA: 9s - loss: 1.8262 - acc: 0.525 - ETA: 9s - loss: 1.8225 - acc: 0.525 - ETA: 8s - loss: 1.8177 - acc: 0.525 - ETA: 8s - loss: 1.8139 - acc: 0.525 - ETA: 8s - loss: 1.8087 - acc: 0.525 - ETA: 8s - loss: 1.8030 - acc: 0.525 - ETA: 7s - loss: 1.7992 - acc: 0.526 - ETA: 7s - loss: 1.7961 - acc: 0.526 - ETA: 7s - loss: 1.7949 - acc: 0.526 - ETA: 7s - loss: 1.7902 - acc: 0.526 - ETA: 6s - loss: 1.7856 - acc: 0.526 - ETA: 6s - loss: 1.7810 - acc: 0.526 - ETA: 6s - loss: 1.7776 - acc: 0.526 - ETA: 6s - loss: 1.7740 - acc: 0.526 - ETA: 5s - loss: 1.7705 - acc: 0.527 - ETA: 5s - loss: 1.7657 - acc: 0.527 - ETA: 5s - loss: 1.7610 - acc: 0.527 - ETA: 5s - loss: 1.7568 - acc: 0.527 - ETA: 5s - loss: 1.7543 - acc: 0.527 - ETA: 4s - loss: 1.7503 - acc: 0.527 - ETA: 4s - loss: 1.7463 - acc: 0.527 - ETA: 4s - loss: 1.7427 - acc: 0.528 - ETA: 4s - loss: 1.7389 - acc: 0.527 - ETA: 4s - loss: 1.7361 - acc: 0.527 - ETA: 3s - loss: 1.7326 - acc: 0.527 - ETA: 3s - loss: 1.7294 - acc: 0.527 - ETA: 3s - loss: 1.7244 - acc: 0.527 - ETA: 3s - loss: 1.7218 - acc: 0.527 - ETA: 3s - loss: 1.7192 - acc: 0.527 - ETA: 2s - loss: 1.7162 - acc: 0.527 - ETA: 2s - loss: 1.7129 - acc: 0.527 - ETA: 2s - loss: 1.7097 - acc: 0.527 - ETA: 2s - loss: 1.7049 - acc: 0.527 - ETA: 2s - loss: 1.7013 - acc: 0.527 - ETA: 1s - loss: 1.6973 - acc: 0.527 - ETA: 1s - loss: 1.6947 - acc: 0.527 - ETA: 1s - loss: 1.6909 - acc: 0.527 - ETA: 1s - loss: 1.6878 - acc: 0.527 - ETA: 1s - loss: 1.6840 - acc: 0.527 - ETA: 0s - loss: 1.6811 - acc: 0.527 - ETA: 0s - loss: 1.6777 - acc: 0.527 - ETA: 0s - loss: 1.6759 - acc: 0.527 - ETA: 0s - loss: 1.6730 - acc: 0.527 - ETA: 0s - loss: 1.6690 - acc: 0.527 - 45s 1ms/step - loss: 1.6659 - acc: 0.5277 - val_loss: 0.6935 - val_acc: 0.5079\n",
      "Epoch 2/5\n"
     ]
    },
    {
     "name": "stdout",
     "output_type": "stream",
     "text": [
      "40275/40275 [==============================] - ETA: 16s - loss: 1.2090 - acc: 0.55 - ETA: 15s - loss: 1.1609 - acc: 0.57 - ETA: 15s - loss: 1.2698 - acc: 0.56 - ETA: 15s - loss: 1.2007 - acc: 0.56 - ETA: 14s - loss: 1.1584 - acc: 0.55 - ETA: 14s - loss: 1.1692 - acc: 0.54 - ETA: 14s - loss: 1.1413 - acc: 0.54 - ETA: 14s - loss: 1.1310 - acc: 0.54 - ETA: 14s - loss: 1.1197 - acc: 0.54 - ETA: 14s - loss: 1.1221 - acc: 0.53 - ETA: 14s - loss: 1.1027 - acc: 0.54 - ETA: 14s - loss: 1.0911 - acc: 0.54 - ETA: 14s - loss: 1.0965 - acc: 0.54 - ETA: 13s - loss: 1.0912 - acc: 0.54 - ETA: 13s - loss: 1.0749 - acc: 0.54 - ETA: 13s - loss: 1.0584 - acc: 0.54 - ETA: 13s - loss: 1.0603 - acc: 0.54 - ETA: 13s - loss: 1.0534 - acc: 0.54 - ETA: 13s - loss: 1.0430 - acc: 0.54 - ETA: 13s - loss: 1.0338 - acc: 0.54 - ETA: 13s - loss: 1.0292 - acc: 0.54 - ETA: 13s - loss: 1.0269 - acc: 0.54 - ETA: 13s - loss: 1.0329 - acc: 0.53 - ETA: 13s - loss: 1.0387 - acc: 0.53 - ETA: 13s - loss: 1.0282 - acc: 0.53 - ETA: 13s - loss: 1.0195 - acc: 0.54 - ETA: 12s - loss: 1.0154 - acc: 0.54 - ETA: 12s - loss: 1.0154 - acc: 0.54 - ETA: 12s - loss: 1.0120 - acc: 0.54 - ETA: 12s - loss: 1.0073 - acc: 0.54 - ETA: 12s - loss: 1.0091 - acc: 0.54 - ETA: 12s - loss: 1.0024 - acc: 0.54 - ETA: 12s - loss: 0.9977 - acc: 0.54 - ETA: 12s - loss: 0.9925 - acc: 0.54 - ETA: 12s - loss: 0.9932 - acc: 0.54 - ETA: 12s - loss: 0.9929 - acc: 0.54 - ETA: 12s - loss: 0.9955 - acc: 0.54 - ETA: 12s - loss: 0.9919 - acc: 0.54 - ETA: 12s - loss: 0.9891 - acc: 0.54 - ETA: 12s - loss: 0.9845 - acc: 0.54 - ETA: 12s - loss: 0.9809 - acc: 0.54 - ETA: 11s - loss: 0.9789 - acc: 0.54 - ETA: 11s - loss: 0.9743 - acc: 0.54 - ETA: 11s - loss: 0.9705 - acc: 0.54 - ETA: 11s - loss: 0.9677 - acc: 0.54 - ETA: 11s - loss: 0.9655 - acc: 0.54 - ETA: 11s - loss: 0.9627 - acc: 0.54 - ETA: 11s - loss: 0.9609 - acc: 0.54 - ETA: 11s - loss: 0.9559 - acc: 0.54 - ETA: 11s - loss: 0.9552 - acc: 0.54 - ETA: 11s - loss: 0.9547 - acc: 0.54 - ETA: 11s - loss: 0.9573 - acc: 0.54 - ETA: 11s - loss: 0.9544 - acc: 0.54 - ETA: 11s - loss: 0.9526 - acc: 0.54 - ETA: 10s - loss: 0.9523 - acc: 0.53 - ETA: 10s - loss: 0.9483 - acc: 0.53 - ETA: 10s - loss: 0.9472 - acc: 0.53 - ETA: 10s - loss: 0.9452 - acc: 0.53 - ETA: 10s - loss: 0.9475 - acc: 0.53 - ETA: 10s - loss: 0.9476 - acc: 0.53 - ETA: 10s - loss: 0.9456 - acc: 0.53 - ETA: 10s - loss: 0.9441 - acc: 0.53 - ETA: 10s - loss: 0.9419 - acc: 0.53 - ETA: 10s - loss: 0.9410 - acc: 0.53 - ETA: 10s - loss: 0.9396 - acc: 0.53 - ETA: 10s - loss: 0.9397 - acc: 0.53 - ETA: 10s - loss: 0.9390 - acc: 0.53 - ETA: 9s - loss: 0.9360 - acc: 0.5390 - ETA: 9s - loss: 0.9354 - acc: 0.538 - ETA: 9s - loss: 0.9355 - acc: 0.538 - ETA: 9s - loss: 0.9347 - acc: 0.539 - ETA: 9s - loss: 0.9344 - acc: 0.539 - ETA: 9s - loss: 0.9325 - acc: 0.539 - ETA: 9s - loss: 0.9296 - acc: 0.539 - ETA: 9s - loss: 0.9295 - acc: 0.539 - ETA: 9s - loss: 0.9291 - acc: 0.539 - ETA: 9s - loss: 0.9288 - acc: 0.539 - ETA: 9s - loss: 0.9279 - acc: 0.538 - ETA: 9s - loss: 0.9262 - acc: 0.537 - ETA: 9s - loss: 0.9237 - acc: 0.538 - ETA: 8s - loss: 0.9226 - acc: 0.538 - ETA: 8s - loss: 0.9218 - acc: 0.538 - ETA: 8s - loss: 0.9208 - acc: 0.538 - ETA: 8s - loss: 0.9212 - acc: 0.538 - ETA: 8s - loss: 0.9189 - acc: 0.539 - ETA: 8s - loss: 0.9175 - acc: 0.539 - ETA: 8s - loss: 0.9180 - acc: 0.539 - ETA: 8s - loss: 0.9169 - acc: 0.539 - ETA: 8s - loss: 0.9155 - acc: 0.539 - ETA: 8s - loss: 0.9146 - acc: 0.539 - ETA: 8s - loss: 0.9135 - acc: 0.538 - ETA: 8s - loss: 0.9117 - acc: 0.538 - ETA: 8s - loss: 0.9104 - acc: 0.539 - ETA: 8s - loss: 0.9104 - acc: 0.538 - ETA: 7s - loss: 0.9083 - acc: 0.538 - ETA: 7s - loss: 0.9075 - acc: 0.538 - ETA: 7s - loss: 0.9058 - acc: 0.538 - ETA: 7s - loss: 0.9041 - acc: 0.538 - ETA: 7s - loss: 0.9028 - acc: 0.538 - ETA: 7s - loss: 0.9014 - acc: 0.538 - ETA: 7s - loss: 0.9000 - acc: 0.537 - ETA: 7s - loss: 0.8992 - acc: 0.538 - ETA: 7s - loss: 0.8982 - acc: 0.538 - ETA: 7s - loss: 0.8966 - acc: 0.538 - ETA: 7s - loss: 0.8959 - acc: 0.538 - ETA: 7s - loss: 0.8950 - acc: 0.539 - ETA: 7s - loss: 0.8945 - acc: 0.538 - ETA: 6s - loss: 0.8943 - acc: 0.538 - ETA: 6s - loss: 0.8940 - acc: 0.537 - ETA: 6s - loss: 0.8945 - acc: 0.538 - ETA: 6s - loss: 0.8934 - acc: 0.538 - ETA: 6s - loss: 0.8934 - acc: 0.538 - ETA: 6s - loss: 0.8925 - acc: 0.538 - ETA: 6s - loss: 0.8911 - acc: 0.538 - ETA: 6s - loss: 0.8896 - acc: 0.538 - ETA: 6s - loss: 0.8890 - acc: 0.538 - ETA: 6s - loss: 0.8886 - acc: 0.538 - ETA: 6s - loss: 0.8882 - acc: 0.538 - ETA: 6s - loss: 0.8869 - acc: 0.538 - ETA: 6s - loss: 0.8862 - acc: 0.538 - ETA: 6s - loss: 0.8851 - acc: 0.538 - ETA: 5s - loss: 0.8845 - acc: 0.538 - ETA: 5s - loss: 0.8839 - acc: 0.537 - ETA: 5s - loss: 0.8830 - acc: 0.537 - ETA: 5s - loss: 0.8822 - acc: 0.537 - ETA: 5s - loss: 0.8815 - acc: 0.537 - ETA: 5s - loss: 0.8802 - acc: 0.537 - ETA: 5s - loss: 0.8793 - acc: 0.537 - ETA: 5s - loss: 0.8782 - acc: 0.537 - ETA: 5s - loss: 0.8780 - acc: 0.537 - ETA: 5s - loss: 0.8770 - acc: 0.537 - ETA: 5s - loss: 0.8760 - acc: 0.537 - ETA: 5s - loss: 0.8754 - acc: 0.537 - ETA: 5s - loss: 0.8745 - acc: 0.537 - ETA: 4s - loss: 0.8746 - acc: 0.537 - ETA: 4s - loss: 0.8744 - acc: 0.536 - ETA: 4s - loss: 0.8734 - acc: 0.536 - ETA: 4s - loss: 0.8730 - acc: 0.536 - ETA: 4s - loss: 0.8724 - acc: 0.536 - ETA: 4s - loss: 0.8712 - acc: 0.536 - ETA: 4s - loss: 0.8700 - acc: 0.536 - ETA: 4s - loss: 0.8689 - acc: 0.536 - ETA: 4s - loss: 0.8683 - acc: 0.536 - ETA: 4s - loss: 0.8671 - acc: 0.536 - ETA: 4s - loss: 0.8659 - acc: 0.536 - ETA: 4s - loss: 0.8648 - acc: 0.536 - ETA: 4s - loss: 0.8643 - acc: 0.536 - ETA: 3s - loss: 0.8636 - acc: 0.536 - ETA: 3s - loss: 0.8634 - acc: 0.536 - ETA: 3s - loss: 0.8631 - acc: 0.536 - ETA: 3s - loss: 0.8623 - acc: 0.536 - ETA: 3s - loss: 0.8623 - acc: 0.536 - ETA: 3s - loss: 0.8619 - acc: 0.536 - ETA: 3s - loss: 0.8610 - acc: 0.536 - ETA: 3s - loss: 0.8614 - acc: 0.536 - ETA: 3s - loss: 0.8606 - acc: 0.536 - ETA: 3s - loss: 0.8600 - acc: 0.536 - ETA: 3s - loss: 0.8596 - acc: 0.536 - ETA: 3s - loss: 0.8588 - acc: 0.536 - ETA: 3s - loss: 0.8584 - acc: 0.536 - ETA: 3s - loss: 0.8575 - acc: 0.536 - ETA: 2s - loss: 0.8571 - acc: 0.536 - ETA: 2s - loss: 0.8562 - acc: 0.536 - ETA: 2s - loss: 0.8551 - acc: 0.537 - ETA: 2s - loss: 0.8549 - acc: 0.537 - ETA: 2s - loss: 0.8547 - acc: 0.537 - ETA: 2s - loss: 0.8541 - acc: 0.537 - ETA: 2s - loss: 0.8534 - acc: 0.536 - ETA: 2s - loss: 0.8528 - acc: 0.536 - ETA: 2s - loss: 0.8520 - acc: 0.536 - ETA: 2s - loss: 0.8511 - acc: 0.536 - ETA: 2s - loss: 0.8503 - acc: 0.536 - ETA: 2s - loss: 0.8496 - acc: 0.536 - ETA: 2s - loss: 0.8487 - acc: 0.536 - ETA: 1s - loss: 0.8484 - acc: 0.536 - ETA: 1s - loss: 0.8481 - acc: 0.536 - ETA: 1s - loss: 0.8473 - acc: 0.536 - ETA: 1s - loss: 0.8466 - acc: 0.536 - ETA: 1s - loss: 0.8458 - acc: 0.536 - ETA: 1s - loss: 0.8453 - acc: 0.536 - ETA: 1s - loss: 0.8447 - acc: 0.536 - ETA: 1s - loss: 0.8441 - acc: 0.536 - ETA: 1s - loss: 0.8435 - acc: 0.536 - ETA: 1s - loss: 0.8427 - acc: 0.536 - ETA: 1s - loss: 0.8423 - acc: 0.536 - ETA: 1s - loss: 0.8418 - acc: 0.536 - ETA: 1s - loss: 0.8410 - acc: 0.536 - ETA: 1s - loss: 0.8403 - acc: 0.535 - ETA: 0s - loss: 0.8399 - acc: 0.535 - ETA: 0s - loss: 0.8391 - acc: 0.535 - ETA: 0s - loss: 0.8386 - acc: 0.535 - ETA: 0s - loss: 0.8384 - acc: 0.535 - ETA: 0s - loss: 0.8378 - acc: 0.535 - ETA: 0s - loss: 0.8371 - acc: 0.536 - ETA: 0s - loss: 0.8368 - acc: 0.535 - ETA: 0s - loss: 0.8363 - acc: 0.536 - ETA: 0s - loss: 0.8361 - acc: 0.536 - ETA: 0s - loss: 0.8357 - acc: 0.535 - ETA: 0s - loss: 0.8350 - acc: 0.536 - ETA: 0s - loss: 0.8347 - acc: 0.536 - ETA: 0s - loss: 0.8341 - acc: 0.536 - 17s 432us/step - loss: 0.8336 - acc: 0.5360 - val_loss: 0.6945 - val_acc: 0.5079\n",
      "Epoch 3/5\n"
     ]
    },
    {
     "name": "stdout",
     "output_type": "stream",
     "text": [
      "40275/40275 [==============================] - ETA: 14s - loss: 0.7355 - acc: 0.55 - ETA: 13s - loss: 0.7116 - acc: 0.56 - ETA: 14s - loss: 0.7579 - acc: 0.54 - ETA: 14s - loss: 0.7456 - acc: 0.52 - ETA: 14s - loss: 0.7456 - acc: 0.53 - ETA: 14s - loss: 0.7407 - acc: 0.52 - ETA: 14s - loss: 0.7441 - acc: 0.53 - ETA: 14s - loss: 0.7457 - acc: 0.53 - ETA: 14s - loss: 0.7441 - acc: 0.53 - ETA: 14s - loss: 0.7438 - acc: 0.53 - ETA: 14s - loss: 0.7412 - acc: 0.53 - ETA: 13s - loss: 0.7354 - acc: 0.53 - ETA: 13s - loss: 0.7327 - acc: 0.54 - ETA: 13s - loss: 0.7302 - acc: 0.54 - ETA: 13s - loss: 0.7294 - acc: 0.54 - ETA: 13s - loss: 0.7301 - acc: 0.54 - ETA: 13s - loss: 0.7320 - acc: 0.54 - ETA: 13s - loss: 0.7303 - acc: 0.54 - ETA: 13s - loss: 0.7317 - acc: 0.54 - ETA: 13s - loss: 0.7335 - acc: 0.54 - ETA: 13s - loss: 0.7333 - acc: 0.54 - ETA: 13s - loss: 0.7316 - acc: 0.54 - ETA: 13s - loss: 0.7336 - acc: 0.54 - ETA: 12s - loss: 0.7347 - acc: 0.54 - ETA: 12s - loss: 0.7337 - acc: 0.54 - ETA: 12s - loss: 0.7317 - acc: 0.54 - ETA: 12s - loss: 0.7308 - acc: 0.54 - ETA: 12s - loss: 0.7308 - acc: 0.54 - ETA: 12s - loss: 0.7313 - acc: 0.54 - ETA: 12s - loss: 0.7296 - acc: 0.54 - ETA: 12s - loss: 0.7287 - acc: 0.54 - ETA: 12s - loss: 0.7284 - acc: 0.54 - ETA: 12s - loss: 0.7276 - acc: 0.54 - ETA: 12s - loss: 0.7264 - acc: 0.54 - ETA: 12s - loss: 0.7257 - acc: 0.54 - ETA: 12s - loss: 0.7248 - acc: 0.55 - ETA: 12s - loss: 0.7259 - acc: 0.55 - ETA: 11s - loss: 0.7250 - acc: 0.54 - ETA: 11s - loss: 0.7253 - acc: 0.54 - ETA: 11s - loss: 0.7265 - acc: 0.54 - ETA: 11s - loss: 0.7261 - acc: 0.54 - ETA: 11s - loss: 0.7266 - acc: 0.54 - ETA: 11s - loss: 0.7269 - acc: 0.54 - ETA: 11s - loss: 0.7267 - acc: 0.54 - ETA: 11s - loss: 0.7261 - acc: 0.54 - ETA: 11s - loss: 0.7263 - acc: 0.54 - ETA: 11s - loss: 0.7255 - acc: 0.54 - ETA: 11s - loss: 0.7254 - acc: 0.54 - ETA: 11s - loss: 0.7263 - acc: 0.54 - ETA: 10s - loss: 0.7262 - acc: 0.54 - ETA: 10s - loss: 0.7267 - acc: 0.54 - ETA: 10s - loss: 0.7261 - acc: 0.54 - ETA: 10s - loss: 0.7266 - acc: 0.54 - ETA: 10s - loss: 0.7261 - acc: 0.54 - ETA: 10s - loss: 0.7258 - acc: 0.54 - ETA: 10s - loss: 0.7252 - acc: 0.54 - ETA: 10s - loss: 0.7251 - acc: 0.54 - ETA: 10s - loss: 0.7253 - acc: 0.54 - ETA: 10s - loss: 0.7249 - acc: 0.54 - ETA: 10s - loss: 0.7257 - acc: 0.54 - ETA: 10s - loss: 0.7251 - acc: 0.54 - ETA: 10s - loss: 0.7250 - acc: 0.54 - ETA: 10s - loss: 0.7250 - acc: 0.54 - ETA: 9s - loss: 0.7247 - acc: 0.5437 - ETA: 9s - loss: 0.7240 - acc: 0.543 - ETA: 9s - loss: 0.7235 - acc: 0.543 - ETA: 9s - loss: 0.7229 - acc: 0.544 - ETA: 9s - loss: 0.7227 - acc: 0.544 - ETA: 9s - loss: 0.7237 - acc: 0.543 - ETA: 9s - loss: 0.7232 - acc: 0.542 - ETA: 9s - loss: 0.7230 - acc: 0.542 - ETA: 9s - loss: 0.7233 - acc: 0.543 - ETA: 9s - loss: 0.7232 - acc: 0.542 - ETA: 9s - loss: 0.7233 - acc: 0.542 - ETA: 9s - loss: 0.7229 - acc: 0.544 - ETA: 9s - loss: 0.7225 - acc: 0.544 - ETA: 9s - loss: 0.7228 - acc: 0.543 - ETA: 8s - loss: 0.7225 - acc: 0.543 - ETA: 8s - loss: 0.7225 - acc: 0.543 - ETA: 8s - loss: 0.7226 - acc: 0.543 - ETA: 8s - loss: 0.7226 - acc: 0.543 - ETA: 8s - loss: 0.7222 - acc: 0.543 - ETA: 8s - loss: 0.7218 - acc: 0.543 - ETA: 8s - loss: 0.7224 - acc: 0.543 - ETA: 8s - loss: 0.7223 - acc: 0.542 - ETA: 8s - loss: 0.7218 - acc: 0.543 - ETA: 8s - loss: 0.7220 - acc: 0.543 - ETA: 8s - loss: 0.7219 - acc: 0.543 - ETA: 8s - loss: 0.7218 - acc: 0.543 - ETA: 8s - loss: 0.7217 - acc: 0.543 - ETA: 8s - loss: 0.7229 - acc: 0.543 - ETA: 8s - loss: 0.7225 - acc: 0.543 - ETA: 8s - loss: 0.7225 - acc: 0.542 - ETA: 7s - loss: 0.7222 - acc: 0.542 - ETA: 7s - loss: 0.7220 - acc: 0.542 - ETA: 7s - loss: 0.7214 - acc: 0.542 - ETA: 7s - loss: 0.7216 - acc: 0.543 - ETA: 7s - loss: 0.7216 - acc: 0.542 - ETA: 7s - loss: 0.7221 - acc: 0.542 - ETA: 7s - loss: 0.7220 - acc: 0.542 - ETA: 7s - loss: 0.7219 - acc: 0.542 - ETA: 7s - loss: 0.7216 - acc: 0.543 - ETA: 7s - loss: 0.7214 - acc: 0.543 - ETA: 7s - loss: 0.7210 - acc: 0.543 - ETA: 7s - loss: 0.7205 - acc: 0.544 - ETA: 7s - loss: 0.7206 - acc: 0.543 - ETA: 6s - loss: 0.7205 - acc: 0.543 - ETA: 6s - loss: 0.7203 - acc: 0.543 - ETA: 6s - loss: 0.7201 - acc: 0.543 - ETA: 6s - loss: 0.7200 - acc: 0.543 - ETA: 6s - loss: 0.7199 - acc: 0.543 - ETA: 6s - loss: 0.7197 - acc: 0.542 - ETA: 6s - loss: 0.7198 - acc: 0.543 - ETA: 6s - loss: 0.7197 - acc: 0.542 - ETA: 6s - loss: 0.7195 - acc: 0.543 - ETA: 6s - loss: 0.7194 - acc: 0.543 - ETA: 6s - loss: 0.7195 - acc: 0.542 - ETA: 6s - loss: 0.7193 - acc: 0.542 - ETA: 6s - loss: 0.7191 - acc: 0.543 - ETA: 6s - loss: 0.7191 - acc: 0.542 - ETA: 5s - loss: 0.7190 - acc: 0.542 - ETA: 5s - loss: 0.7188 - acc: 0.542 - ETA: 5s - loss: 0.7187 - acc: 0.542 - ETA: 5s - loss: 0.7186 - acc: 0.542 - ETA: 5s - loss: 0.7183 - acc: 0.542 - ETA: 5s - loss: 0.7181 - acc: 0.543 - ETA: 5s - loss: 0.7180 - acc: 0.543 - ETA: 5s - loss: 0.7180 - acc: 0.542 - ETA: 5s - loss: 0.7177 - acc: 0.543 - ETA: 5s - loss: 0.7175 - acc: 0.543 - ETA: 5s - loss: 0.7172 - acc: 0.543 - ETA: 5s - loss: 0.7173 - acc: 0.543 - ETA: 5s - loss: 0.7173 - acc: 0.543 - ETA: 4s - loss: 0.7170 - acc: 0.543 - ETA: 4s - loss: 0.7169 - acc: 0.543 - ETA: 4s - loss: 0.7167 - acc: 0.543 - ETA: 4s - loss: 0.7165 - acc: 0.543 - ETA: 4s - loss: 0.7165 - acc: 0.543 - ETA: 4s - loss: 0.7163 - acc: 0.543 - ETA: 4s - loss: 0.7161 - acc: 0.543 - ETA: 4s - loss: 0.7166 - acc: 0.543 - ETA: 4s - loss: 0.7168 - acc: 0.543 - ETA: 4s - loss: 0.7166 - acc: 0.543 - ETA: 4s - loss: 0.7165 - acc: 0.543 - ETA: 4s - loss: 0.7165 - acc: 0.543 - ETA: 4s - loss: 0.7166 - acc: 0.542 - ETA: 4s - loss: 0.7165 - acc: 0.542 - ETA: 3s - loss: 0.7162 - acc: 0.542 - ETA: 3s - loss: 0.7161 - acc: 0.542 - ETA: 3s - loss: 0.7159 - acc: 0.542 - ETA: 3s - loss: 0.7157 - acc: 0.542 - ETA: 3s - loss: 0.7155 - acc: 0.542 - ETA: 3s - loss: 0.7154 - acc: 0.543 - ETA: 3s - loss: 0.7153 - acc: 0.543 - ETA: 3s - loss: 0.7154 - acc: 0.542 - ETA: 3s - loss: 0.7153 - acc: 0.542 - ETA: 3s - loss: 0.7154 - acc: 0.542 - ETA: 3s - loss: 0.7152 - acc: 0.542 - ETA: 3s - loss: 0.7153 - acc: 0.542 - ETA: 3s - loss: 0.7152 - acc: 0.542 - ETA: 2s - loss: 0.7149 - acc: 0.542 - ETA: 2s - loss: 0.7149 - acc: 0.542 - ETA: 2s - loss: 0.7148 - acc: 0.542 - ETA: 2s - loss: 0.7148 - acc: 0.542 - ETA: 2s - loss: 0.7146 - acc: 0.542 - ETA: 2s - loss: 0.7145 - acc: 0.541 - ETA: 2s - loss: 0.7144 - acc: 0.542 - ETA: 2s - loss: 0.7143 - acc: 0.542 - ETA: 2s - loss: 0.7143 - acc: 0.542 - ETA: 2s - loss: 0.7143 - acc: 0.541 - ETA: 2s - loss: 0.7141 - acc: 0.542 - ETA: 2s - loss: 0.7140 - acc: 0.541 - ETA: 2s - loss: 0.7141 - acc: 0.541 - ETA: 2s - loss: 0.7140 - acc: 0.541 - ETA: 1s - loss: 0.7139 - acc: 0.541 - ETA: 1s - loss: 0.7138 - acc: 0.541 - ETA: 1s - loss: 0.7137 - acc: 0.541 - ETA: 1s - loss: 0.7137 - acc: 0.541 - ETA: 1s - loss: 0.7137 - acc: 0.541 - ETA: 1s - loss: 0.7135 - acc: 0.541 - ETA: 1s - loss: 0.7135 - acc: 0.541 - ETA: 1s - loss: 0.7134 - acc: 0.541 - ETA: 1s - loss: 0.7131 - acc: 0.541 - ETA: 1s - loss: 0.7131 - acc: 0.541 - ETA: 1s - loss: 0.7131 - acc: 0.540 - ETA: 1s - loss: 0.7130 - acc: 0.541 - ETA: 1s - loss: 0.7128 - acc: 0.541 - ETA: 1s - loss: 0.7130 - acc: 0.541 - ETA: 0s - loss: 0.7129 - acc: 0.541 - ETA: 0s - loss: 0.7131 - acc: 0.541 - ETA: 0s - loss: 0.7129 - acc: 0.541 - ETA: 0s - loss: 0.7129 - acc: 0.540 - ETA: 0s - loss: 0.7128 - acc: 0.540 - ETA: 0s - loss: 0.7127 - acc: 0.540 - ETA: 0s - loss: 0.7126 - acc: 0.540 - ETA: 0s - loss: 0.7126 - acc: 0.540 - ETA: 0s - loss: 0.7126 - acc: 0.540 - ETA: 0s - loss: 0.7125 - acc: 0.540 - ETA: 0s - loss: 0.7125 - acc: 0.540 - ETA: 0s - loss: 0.7123 - acc: 0.540 - ETA: 0s - loss: 0.7123 - acc: 0.540 - ETA: 0s - loss: 0.7124 - acc: 0.540 - ETA: 0s - loss: 0.7125 - acc: 0.540 - 18s 438us/step - loss: 0.7125 - acc: 0.5406 - val_loss: 0.6948 - val_acc: 0.5079\n",
      "Epoch 4/5\n"
     ]
    },
    {
     "name": "stdout",
     "output_type": "stream",
     "text": [
      "40275/40275 [==============================] - ETA: 14s - loss: 0.6963 - acc: 0.57 - ETA: 14s - loss: 0.6937 - acc: 0.56 - ETA: 14s - loss: 0.6923 - acc: 0.55 - ETA: 14s - loss: 0.7008 - acc: 0.54 - ETA: 14s - loss: 0.7020 - acc: 0.54 - ETA: 14s - loss: 0.7010 - acc: 0.53 - ETA: 14s - loss: 0.6957 - acc: 0.55 - ETA: 13s - loss: 0.6941 - acc: 0.55 - ETA: 13s - loss: 0.6961 - acc: 0.55 - ETA: 13s - loss: 0.6971 - acc: 0.55 - ETA: 13s - loss: 0.6997 - acc: 0.54 - ETA: 13s - loss: 0.6996 - acc: 0.54 - ETA: 13s - loss: 0.7000 - acc: 0.54 - ETA: 13s - loss: 0.6994 - acc: 0.54 - ETA: 13s - loss: 0.6997 - acc: 0.54 - ETA: 13s - loss: 0.6985 - acc: 0.54 - ETA: 13s - loss: 0.6989 - acc: 0.54 - ETA: 13s - loss: 0.6985 - acc: 0.54 - ETA: 13s - loss: 0.6979 - acc: 0.54 - ETA: 12s - loss: 0.6985 - acc: 0.54 - ETA: 12s - loss: 0.6980 - acc: 0.54 - ETA: 12s - loss: 0.6977 - acc: 0.54 - ETA: 12s - loss: 0.6977 - acc: 0.53 - ETA: 12s - loss: 0.6974 - acc: 0.53 - ETA: 12s - loss: 0.6977 - acc: 0.54 - ETA: 12s - loss: 0.6975 - acc: 0.54 - ETA: 12s - loss: 0.6976 - acc: 0.54 - ETA: 12s - loss: 0.6978 - acc: 0.54 - ETA: 12s - loss: 0.6976 - acc: 0.54 - ETA: 12s - loss: 0.6978 - acc: 0.54 - ETA: 12s - loss: 0.6975 - acc: 0.54 - ETA: 12s - loss: 0.6979 - acc: 0.54 - ETA: 11s - loss: 0.6974 - acc: 0.54 - ETA: 11s - loss: 0.6979 - acc: 0.54 - ETA: 11s - loss: 0.6976 - acc: 0.54 - ETA: 11s - loss: 0.6976 - acc: 0.54 - ETA: 11s - loss: 0.6979 - acc: 0.54 - ETA: 11s - loss: 0.6976 - acc: 0.54 - ETA: 11s - loss: 0.6974 - acc: 0.54 - ETA: 11s - loss: 0.6976 - acc: 0.54 - ETA: 11s - loss: 0.6980 - acc: 0.54 - ETA: 11s - loss: 0.6975 - acc: 0.54 - ETA: 11s - loss: 0.6977 - acc: 0.54 - ETA: 11s - loss: 0.6986 - acc: 0.54 - ETA: 11s - loss: 0.6982 - acc: 0.54 - ETA: 11s - loss: 0.6984 - acc: 0.54 - ETA: 10s - loss: 0.6984 - acc: 0.54 - ETA: 10s - loss: 0.6979 - acc: 0.54 - ETA: 10s - loss: 0.6979 - acc: 0.54 - ETA: 10s - loss: 0.6980 - acc: 0.54 - ETA: 10s - loss: 0.6978 - acc: 0.54 - ETA: 10s - loss: 0.6979 - acc: 0.54 - ETA: 10s - loss: 0.6977 - acc: 0.54 - ETA: 10s - loss: 0.6980 - acc: 0.54 - ETA: 10s - loss: 0.6980 - acc: 0.54 - ETA: 10s - loss: 0.6983 - acc: 0.54 - ETA: 10s - loss: 0.6984 - acc: 0.54 - ETA: 10s - loss: 0.6982 - acc: 0.54 - ETA: 10s - loss: 0.6981 - acc: 0.54 - ETA: 9s - loss: 0.6978 - acc: 0.5419 - ETA: 9s - loss: 0.6980 - acc: 0.542 - ETA: 9s - loss: 0.6977 - acc: 0.542 - ETA: 9s - loss: 0.6978 - acc: 0.542 - ETA: 9s - loss: 0.6975 - acc: 0.542 - ETA: 9s - loss: 0.6974 - acc: 0.543 - ETA: 9s - loss: 0.6974 - acc: 0.542 - ETA: 9s - loss: 0.6977 - acc: 0.542 - ETA: 9s - loss: 0.6979 - acc: 0.542 - ETA: 9s - loss: 0.6981 - acc: 0.541 - ETA: 9s - loss: 0.6980 - acc: 0.541 - ETA: 9s - loss: 0.6978 - acc: 0.541 - ETA: 9s - loss: 0.6978 - acc: 0.541 - ETA: 9s - loss: 0.6978 - acc: 0.541 - ETA: 8s - loss: 0.6977 - acc: 0.541 - ETA: 8s - loss: 0.6978 - acc: 0.540 - ETA: 8s - loss: 0.6987 - acc: 0.540 - ETA: 8s - loss: 0.6986 - acc: 0.540 - ETA: 8s - loss: 0.6988 - acc: 0.540 - ETA: 8s - loss: 0.6988 - acc: 0.540 - ETA: 8s - loss: 0.6989 - acc: 0.539 - ETA: 8s - loss: 0.6989 - acc: 0.539 - ETA: 8s - loss: 0.6989 - acc: 0.538 - ETA: 8s - loss: 0.6990 - acc: 0.539 - ETA: 8s - loss: 0.6989 - acc: 0.538 - ETA: 8s - loss: 0.6989 - acc: 0.538 - ETA: 8s - loss: 0.6988 - acc: 0.539 - ETA: 8s - loss: 0.6989 - acc: 0.539 - ETA: 7s - loss: 0.6989 - acc: 0.540 - ETA: 7s - loss: 0.6987 - acc: 0.540 - ETA: 7s - loss: 0.6986 - acc: 0.540 - ETA: 7s - loss: 0.6984 - acc: 0.540 - ETA: 7s - loss: 0.6984 - acc: 0.540 - ETA: 7s - loss: 0.6982 - acc: 0.541 - ETA: 7s - loss: 0.6981 - acc: 0.541 - ETA: 7s - loss: 0.6980 - acc: 0.541 - ETA: 7s - loss: 0.6981 - acc: 0.541 - ETA: 7s - loss: 0.6981 - acc: 0.541 - ETA: 7s - loss: 0.6980 - acc: 0.541 - ETA: 7s - loss: 0.6983 - acc: 0.540 - ETA: 7s - loss: 0.6981 - acc: 0.541 - ETA: 7s - loss: 0.6979 - acc: 0.541 - ETA: 6s - loss: 0.6979 - acc: 0.541 - ETA: 6s - loss: 0.6980 - acc: 0.541 - ETA: 6s - loss: 0.6978 - acc: 0.541 - ETA: 6s - loss: 0.6978 - acc: 0.541 - ETA: 6s - loss: 0.6977 - acc: 0.541 - ETA: 6s - loss: 0.6976 - acc: 0.541 - ETA: 6s - loss: 0.6975 - acc: 0.541 - ETA: 6s - loss: 0.6974 - acc: 0.542 - ETA: 6s - loss: 0.6972 - acc: 0.542 - ETA: 6s - loss: 0.6972 - acc: 0.542 - ETA: 6s - loss: 0.6972 - acc: 0.542 - ETA: 6s - loss: 0.6973 - acc: 0.542 - ETA: 6s - loss: 0.6975 - acc: 0.542 - ETA: 6s - loss: 0.6974 - acc: 0.542 - ETA: 6s - loss: 0.6975 - acc: 0.542 - ETA: 5s - loss: 0.6974 - acc: 0.542 - ETA: 5s - loss: 0.6973 - acc: 0.542 - ETA: 5s - loss: 0.6973 - acc: 0.542 - ETA: 5s - loss: 0.6974 - acc: 0.541 - ETA: 5s - loss: 0.6974 - acc: 0.541 - ETA: 5s - loss: 0.6975 - acc: 0.540 - ETA: 5s - loss: 0.6976 - acc: 0.540 - ETA: 5s - loss: 0.6976 - acc: 0.540 - ETA: 5s - loss: 0.6977 - acc: 0.539 - ETA: 5s - loss: 0.6977 - acc: 0.539 - ETA: 5s - loss: 0.6977 - acc: 0.539 - ETA: 5s - loss: 0.6976 - acc: 0.539 - ETA: 5s - loss: 0.6975 - acc: 0.539 - ETA: 5s - loss: 0.6974 - acc: 0.540 - ETA: 4s - loss: 0.6973 - acc: 0.539 - ETA: 4s - loss: 0.6972 - acc: 0.540 - ETA: 4s - loss: 0.6972 - acc: 0.539 - ETA: 4s - loss: 0.6973 - acc: 0.539 - ETA: 4s - loss: 0.6974 - acc: 0.540 - ETA: 4s - loss: 0.6973 - acc: 0.540 - ETA: 4s - loss: 0.6974 - acc: 0.539 - ETA: 4s - loss: 0.6974 - acc: 0.539 - ETA: 4s - loss: 0.6973 - acc: 0.539 - ETA: 4s - loss: 0.6973 - acc: 0.540 - ETA: 4s - loss: 0.6975 - acc: 0.540 - ETA: 4s - loss: 0.6974 - acc: 0.540 - ETA: 4s - loss: 0.6975 - acc: 0.540 - ETA: 4s - loss: 0.6974 - acc: 0.540 - ETA: 4s - loss: 0.6975 - acc: 0.540 - ETA: 3s - loss: 0.6975 - acc: 0.540 - ETA: 3s - loss: 0.6977 - acc: 0.540 - ETA: 3s - loss: 0.6981 - acc: 0.540 - ETA: 3s - loss: 0.6980 - acc: 0.540 - ETA: 3s - loss: 0.6981 - acc: 0.540 - ETA: 3s - loss: 0.6981 - acc: 0.539 - ETA: 3s - loss: 0.6980 - acc: 0.540 - ETA: 3s - loss: 0.6979 - acc: 0.539 - ETA: 3s - loss: 0.6979 - acc: 0.539 - ETA: 3s - loss: 0.6979 - acc: 0.539 - ETA: 3s - loss: 0.6979 - acc: 0.539 - ETA: 3s - loss: 0.6979 - acc: 0.539 - ETA: 3s - loss: 0.6979 - acc: 0.539 - ETA: 3s - loss: 0.6978 - acc: 0.539 - ETA: 3s - loss: 0.6978 - acc: 0.539 - ETA: 2s - loss: 0.6977 - acc: 0.539 - ETA: 2s - loss: 0.6976 - acc: 0.539 - ETA: 2s - loss: 0.6976 - acc: 0.539 - ETA: 2s - loss: 0.6976 - acc: 0.539 - ETA: 2s - loss: 0.6976 - acc: 0.538 - ETA: 2s - loss: 0.6976 - acc: 0.538 - ETA: 2s - loss: 0.6976 - acc: 0.538 - ETA: 2s - loss: 0.6977 - acc: 0.538 - ETA: 2s - loss: 0.6976 - acc: 0.538 - ETA: 2s - loss: 0.6976 - acc: 0.538 - ETA: 2s - loss: 0.6975 - acc: 0.538 - ETA: 2s - loss: 0.6975 - acc: 0.538 - ETA: 2s - loss: 0.6974 - acc: 0.538 - ETA: 2s - loss: 0.6974 - acc: 0.538 - ETA: 1s - loss: 0.6973 - acc: 0.538 - ETA: 1s - loss: 0.6973 - acc: 0.538 - ETA: 1s - loss: 0.6973 - acc: 0.539 - ETA: 1s - loss: 0.6973 - acc: 0.539 - ETA: 1s - loss: 0.6973 - acc: 0.539 - ETA: 1s - loss: 0.6971 - acc: 0.539 - ETA: 1s - loss: 0.6972 - acc: 0.539 - ETA: 1s - loss: 0.6971 - acc: 0.539 - ETA: 1s - loss: 0.6971 - acc: 0.539 - ETA: 1s - loss: 0.6972 - acc: 0.539 - ETA: 1s - loss: 0.6971 - acc: 0.539 - ETA: 1s - loss: 0.6971 - acc: 0.539 - ETA: 1s - loss: 0.6971 - acc: 0.539 - ETA: 1s - loss: 0.6971 - acc: 0.539 - ETA: 0s - loss: 0.6972 - acc: 0.538 - ETA: 0s - loss: 0.6973 - acc: 0.538 - ETA: 0s - loss: 0.6972 - acc: 0.538 - ETA: 0s - loss: 0.6972 - acc: 0.538 - ETA: 0s - loss: 0.6972 - acc: 0.538 - ETA: 0s - loss: 0.6973 - acc: 0.538 - ETA: 0s - loss: 0.6972 - acc: 0.538 - ETA: 0s - loss: 0.6971 - acc: 0.538 - ETA: 0s - loss: 0.6970 - acc: 0.539 - ETA: 0s - loss: 0.6970 - acc: 0.539 - ETA: 0s - loss: 0.6970 - acc: 0.539 - ETA: 0s - loss: 0.6970 - acc: 0.539 - ETA: 0s - loss: 0.6970 - acc: 0.539 - ETA: 0s - loss: 0.6970 - acc: 0.538 - 17s 429us/step - loss: 0.6969 - acc: 0.5389 - val_loss: 0.6952 - val_acc: 0.5079\n",
      "Epoch 5/5\n"
     ]
    },
    {
     "name": "stdout",
     "output_type": "stream",
     "text": [
      "40275/40275 [==============================] - ETA: 16s - loss: 0.7010 - acc: 0.51 - ETA: 15s - loss: 0.6968 - acc: 0.52 - ETA: 15s - loss: 0.6995 - acc: 0.52 - ETA: 15s - loss: 0.6978 - acc: 0.51 - ETA: 15s - loss: 0.6952 - acc: 0.52 - ETA: 15s - loss: 0.6941 - acc: 0.53 - ETA: 15s - loss: 0.6938 - acc: 0.53 - ETA: 15s - loss: 0.6934 - acc: 0.53 - ETA: 15s - loss: 0.6930 - acc: 0.53 - ETA: 15s - loss: 0.6938 - acc: 0.53 - ETA: 15s - loss: 0.6943 - acc: 0.52 - ETA: 14s - loss: 0.6938 - acc: 0.52 - ETA: 14s - loss: 0.6935 - acc: 0.52 - ETA: 14s - loss: 0.6935 - acc: 0.53 - ETA: 14s - loss: 0.6939 - acc: 0.52 - ETA: 14s - loss: 0.6933 - acc: 0.52 - ETA: 14s - loss: 0.6929 - acc: 0.53 - ETA: 14s - loss: 0.6929 - acc: 0.53 - ETA: 14s - loss: 0.6929 - acc: 0.53 - ETA: 14s - loss: 0.6920 - acc: 0.53 - ETA: 14s - loss: 0.6924 - acc: 0.53 - ETA: 14s - loss: 0.6930 - acc: 0.53 - ETA: 13s - loss: 0.6935 - acc: 0.53 - ETA: 13s - loss: 0.6932 - acc: 0.53 - ETA: 13s - loss: 0.6929 - acc: 0.53 - ETA: 13s - loss: 0.6924 - acc: 0.53 - ETA: 13s - loss: 0.6931 - acc: 0.53 - ETA: 13s - loss: 0.6929 - acc: 0.53 - ETA: 13s - loss: 0.6932 - acc: 0.53 - ETA: 13s - loss: 0.6929 - acc: 0.53 - ETA: 13s - loss: 0.6929 - acc: 0.53 - ETA: 13s - loss: 0.6926 - acc: 0.53 - ETA: 13s - loss: 0.6926 - acc: 0.53 - ETA: 12s - loss: 0.6923 - acc: 0.53 - ETA: 12s - loss: 0.6927 - acc: 0.53 - ETA: 12s - loss: 0.6926 - acc: 0.53 - ETA: 12s - loss: 0.6927 - acc: 0.53 - ETA: 12s - loss: 0.6924 - acc: 0.53 - ETA: 12s - loss: 0.6925 - acc: 0.53 - ETA: 12s - loss: 0.6926 - acc: 0.53 - ETA: 12s - loss: 0.6925 - acc: 0.53 - ETA: 12s - loss: 0.6925 - acc: 0.53 - ETA: 12s - loss: 0.6926 - acc: 0.53 - ETA: 12s - loss: 0.6925 - acc: 0.53 - ETA: 12s - loss: 0.6930 - acc: 0.53 - ETA: 11s - loss: 0.6931 - acc: 0.53 - ETA: 11s - loss: 0.6934 - acc: 0.53 - ETA: 11s - loss: 0.6934 - acc: 0.53 - ETA: 11s - loss: 0.6933 - acc: 0.53 - ETA: 11s - loss: 0.6932 - acc: 0.53 - ETA: 11s - loss: 0.6931 - acc: 0.53 - ETA: 11s - loss: 0.6931 - acc: 0.53 - ETA: 11s - loss: 0.6929 - acc: 0.53 - ETA: 11s - loss: 0.6929 - acc: 0.53 - ETA: 11s - loss: 0.6929 - acc: 0.53 - ETA: 11s - loss: 0.6928 - acc: 0.53 - ETA: 11s - loss: 0.6929 - acc: 0.53 - ETA: 11s - loss: 0.6929 - acc: 0.53 - ETA: 11s - loss: 0.6929 - acc: 0.53 - ETA: 10s - loss: 0.6928 - acc: 0.53 - ETA: 10s - loss: 0.6929 - acc: 0.53 - ETA: 10s - loss: 0.6927 - acc: 0.53 - ETA: 10s - loss: 0.6926 - acc: 0.53 - ETA: 10s - loss: 0.6926 - acc: 0.53 - ETA: 10s - loss: 0.6926 - acc: 0.53 - ETA: 10s - loss: 0.6926 - acc: 0.53 - ETA: 10s - loss: 0.6924 - acc: 0.54 - ETA: 10s - loss: 0.6924 - acc: 0.54 - ETA: 10s - loss: 0.6923 - acc: 0.54 - ETA: 10s - loss: 0.6923 - acc: 0.54 - ETA: 10s - loss: 0.6923 - acc: 0.54 - ETA: 9s - loss: 0.6923 - acc: 0.5410 - ETA: 9s - loss: 0.6922 - acc: 0.541 - ETA: 9s - loss: 0.6928 - acc: 0.540 - ETA: 9s - loss: 0.6929 - acc: 0.540 - ETA: 9s - loss: 0.6930 - acc: 0.541 - ETA: 9s - loss: 0.6929 - acc: 0.541 - ETA: 9s - loss: 0.6928 - acc: 0.541 - ETA: 9s - loss: 0.6930 - acc: 0.541 - ETA: 9s - loss: 0.6929 - acc: 0.541 - ETA: 9s - loss: 0.6929 - acc: 0.541 - ETA: 9s - loss: 0.6930 - acc: 0.540 - ETA: 9s - loss: 0.6929 - acc: 0.541 - ETA: 8s - loss: 0.6928 - acc: 0.541 - ETA: 8s - loss: 0.6927 - acc: 0.542 - ETA: 8s - loss: 0.6927 - acc: 0.541 - ETA: 8s - loss: 0.6929 - acc: 0.541 - ETA: 8s - loss: 0.6929 - acc: 0.541 - ETA: 8s - loss: 0.6929 - acc: 0.540 - ETA: 8s - loss: 0.6928 - acc: 0.541 - ETA: 8s - loss: 0.6928 - acc: 0.541 - ETA: 8s - loss: 0.6927 - acc: 0.541 - ETA: 8s - loss: 0.6928 - acc: 0.541 - ETA: 8s - loss: 0.6929 - acc: 0.541 - ETA: 8s - loss: 0.6932 - acc: 0.541 - ETA: 8s - loss: 0.6932 - acc: 0.541 - ETA: 7s - loss: 0.6933 - acc: 0.540 - ETA: 7s - loss: 0.6933 - acc: 0.540 - ETA: 7s - loss: 0.6933 - acc: 0.540 - ETA: 7s - loss: 0.6932 - acc: 0.540 - ETA: 7s - loss: 0.6934 - acc: 0.540 - ETA: 7s - loss: 0.6935 - acc: 0.540 - ETA: 7s - loss: 0.6934 - acc: 0.540 - ETA: 7s - loss: 0.6935 - acc: 0.540 - ETA: 7s - loss: 0.6935 - acc: 0.539 - ETA: 7s - loss: 0.6936 - acc: 0.539 - ETA: 7s - loss: 0.6936 - acc: 0.539 - ETA: 7s - loss: 0.6937 - acc: 0.538 - ETA: 7s - loss: 0.6937 - acc: 0.538 - ETA: 6s - loss: 0.6936 - acc: 0.539 - ETA: 6s - loss: 0.6936 - acc: 0.538 - ETA: 6s - loss: 0.6935 - acc: 0.539 - ETA: 6s - loss: 0.6935 - acc: 0.539 - ETA: 6s - loss: 0.6936 - acc: 0.538 - ETA: 6s - loss: 0.6936 - acc: 0.538 - ETA: 6s - loss: 0.6935 - acc: 0.538 - ETA: 6s - loss: 0.6935 - acc: 0.538 - ETA: 6s - loss: 0.6935 - acc: 0.538 - ETA: 6s - loss: 0.6935 - acc: 0.538 - ETA: 6s - loss: 0.6934 - acc: 0.538 - ETA: 6s - loss: 0.6935 - acc: 0.538 - ETA: 6s - loss: 0.6935 - acc: 0.538 - ETA: 5s - loss: 0.6935 - acc: 0.538 - ETA: 5s - loss: 0.6934 - acc: 0.538 - ETA: 5s - loss: 0.6934 - acc: 0.538 - ETA: 5s - loss: 0.6934 - acc: 0.538 - ETA: 5s - loss: 0.6934 - acc: 0.538 - ETA: 5s - loss: 0.6933 - acc: 0.538 - ETA: 5s - loss: 0.6933 - acc: 0.538 - ETA: 5s - loss: 0.6933 - acc: 0.538 - ETA: 5s - loss: 0.6933 - acc: 0.538 - ETA: 5s - loss: 0.6933 - acc: 0.538 - ETA: 5s - loss: 0.6934 - acc: 0.538 - ETA: 5s - loss: 0.6933 - acc: 0.538 - ETA: 5s - loss: 0.6932 - acc: 0.538 - ETA: 4s - loss: 0.6932 - acc: 0.538 - ETA: 4s - loss: 0.6932 - acc: 0.538 - ETA: 4s - loss: 0.6931 - acc: 0.539 - ETA: 4s - loss: 0.6931 - acc: 0.539 - ETA: 4s - loss: 0.6932 - acc: 0.538 - ETA: 4s - loss: 0.6931 - acc: 0.539 - ETA: 4s - loss: 0.6931 - acc: 0.539 - ETA: 4s - loss: 0.6932 - acc: 0.538 - ETA: 4s - loss: 0.6931 - acc: 0.539 - ETA: 4s - loss: 0.6931 - acc: 0.539 - ETA: 4s - loss: 0.6931 - acc: 0.539 - ETA: 4s - loss: 0.6931 - acc: 0.539 - ETA: 4s - loss: 0.6931 - acc: 0.539 - ETA: 3s - loss: 0.6933 - acc: 0.539 - ETA: 3s - loss: 0.6932 - acc: 0.539 - ETA: 3s - loss: 0.6932 - acc: 0.539 - ETA: 3s - loss: 0.6933 - acc: 0.538 - ETA: 3s - loss: 0.6933 - acc: 0.539 - ETA: 3s - loss: 0.6934 - acc: 0.538 - ETA: 3s - loss: 0.6933 - acc: 0.538 - ETA: 3s - loss: 0.6934 - acc: 0.538 - ETA: 3s - loss: 0.6934 - acc: 0.538 - ETA: 3s - loss: 0.6934 - acc: 0.538 - ETA: 3s - loss: 0.6934 - acc: 0.537 - ETA: 3s - loss: 0.6934 - acc: 0.538 - ETA: 3s - loss: 0.6934 - acc: 0.538 - ETA: 2s - loss: 0.6933 - acc: 0.538 - ETA: 2s - loss: 0.6934 - acc: 0.538 - ETA: 2s - loss: 0.6934 - acc: 0.538 - ETA: 2s - loss: 0.6934 - acc: 0.538 - ETA: 2s - loss: 0.6934 - acc: 0.537 - ETA: 2s - loss: 0.6935 - acc: 0.537 - ETA: 2s - loss: 0.6935 - acc: 0.537 - ETA: 2s - loss: 0.6934 - acc: 0.538 - ETA: 2s - loss: 0.6934 - acc: 0.538 - ETA: 2s - loss: 0.6934 - acc: 0.538 - ETA: 2s - loss: 0.6934 - acc: 0.538 - ETA: 2s - loss: 0.6934 - acc: 0.538 - ETA: 2s - loss: 0.6933 - acc: 0.538 - ETA: 2s - loss: 0.6933 - acc: 0.538 - ETA: 1s - loss: 0.6933 - acc: 0.538 - ETA: 1s - loss: 0.6932 - acc: 0.538 - ETA: 1s - loss: 0.6932 - acc: 0.539 - ETA: 1s - loss: 0.6932 - acc: 0.538 - ETA: 1s - loss: 0.6931 - acc: 0.539 - ETA: 1s - loss: 0.6931 - acc: 0.539 - ETA: 1s - loss: 0.6931 - acc: 0.539 - ETA: 1s - loss: 0.6930 - acc: 0.539 - ETA: 1s - loss: 0.6930 - acc: 0.539 - ETA: 1s - loss: 0.6930 - acc: 0.539 - ETA: 1s - loss: 0.6930 - acc: 0.539 - ETA: 1s - loss: 0.6930 - acc: 0.539 - ETA: 1s - loss: 0.6930 - acc: 0.539 - ETA: 0s - loss: 0.6930 - acc: 0.539 - ETA: 0s - loss: 0.6930 - acc: 0.539 - ETA: 0s - loss: 0.6930 - acc: 0.539 - ETA: 0s - loss: 0.6930 - acc: 0.539 - ETA: 0s - loss: 0.6930 - acc: 0.539 - ETA: 0s - loss: 0.6929 - acc: 0.539 - ETA: 0s - loss: 0.6928 - acc: 0.539 - ETA: 0s - loss: 0.6929 - acc: 0.539 - ETA: 0s - loss: 0.6929 - acc: 0.539 - ETA: 0s - loss: 0.6928 - acc: 0.540 - ETA: 0s - loss: 0.6928 - acc: 0.540 - ETA: 0s - loss: 0.6928 - acc: 0.540 - ETA: 0s - loss: 0.6928 - acc: 0.540 - 18s 437us/step - loss: 0.6928 - acc: 0.5403 - val_loss: 0.6956 - val_acc: 0.5079\n"
     ]
    },
    {
     "data": {
      "text/plain": [
       "<keras.callbacks.History at 0x1e74912ac18>"
      ]
     },
     "execution_count": 139,
     "metadata": {},
     "output_type": "execute_result"
    }
   ],
   "source": [
    "model.fit(\n",
    "    advancedtrain,\n",
    "    labelstrain,\n",
    "    batch_size=100,\n",
    "    epochs=5,\n",
    "    validation_data=(advancedtest, labelstest)\n",
    ")"
   ]
  },
  {
   "cell_type": "code",
   "execution_count": null,
   "metadata": {},
   "outputs": [],
   "source": []
  }
 ],
 "metadata": {
  "kernelspec": {
   "display_name": "Python 3",
   "language": "python",
   "name": "python3"
  },
  "language_info": {
   "codemirror_mode": {
    "name": "ipython",
    "version": 3
   },
   "file_extension": ".py",
   "mimetype": "text/x-python",
   "name": "python",
   "nbconvert_exporter": "python",
   "pygments_lexer": "ipython3",
   "version": "3.7.2"
  }
 },
 "nbformat": 4,
 "nbformat_minor": 2
}
